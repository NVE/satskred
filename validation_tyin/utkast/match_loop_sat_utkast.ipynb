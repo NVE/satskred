{
 "cells": [
  {
   "cell_type": "code",
   "execution_count": 1,
   "metadata": {
    "collapsed": true,
    "pycharm": {
     "name": "#%% Import\n",
     "is_executing": false
    }
   },
   "outputs": [],
   "source": [
    "import geopandas as gpd\n",
    "import pandas as pd\n",
    "import matplotlib.pyplot as plt\n",
    "from pyproj import Proj\n",
    "from fiona.crs import from_epsg"
   ]
  },
  {
   "cell_type": "code",
   "execution_count": 3,
   "outputs": [
    {
     "name": "stdout",
     "text": [
      "0     POLYGON ((8.20802 61.24034, 8.20793 61.24078, ...\n1     POLYGON ((8.20272 61.24584, 8.20268 61.24601, ...\n2     POLYGON ((8.20247 61.25988, 8.20245 61.25997, ...\n3     POLYGON ((8.23335 61.22088, 8.23333 61.22097, ...\n4     POLYGON ((8.21541 61.23557, 8.21535 61.23584, ...\n                            ...                        \n63    POLYGON ((8.23063 61.22831, 8.23057 61.22858, ...\n64    POLYGON ((8.20045 61.26402, 8.20040 61.26428, ...\n65    POLYGON ((8.19905 61.27134, 8.19901 61.27151, ...\n66    POLYGON ((8.23144 61.22367, 8.23142 61.22376, ...\n67    POLYGON ((8.19518 61.25988, 8.19516 61.25996, ...\nName: geometry, Length: 68, dtype: geometry\n{'init': 'epsg:4326'}\n"
     ],
     "output_type": "stream"
    }
   ],
   "source": [
    "sataut = gpd.read_file(\"./data/satskred/SHP_merge/AvalDet_aut_Merge.shp\")\n",
    "\n",
    "print(sataut[\"geometry\"])\n",
    "print(sataut.crs)"
   ],
   "metadata": {
    "collapsed": false,
    "pycharm": {
     "name": "#%% Read files and add date-time columns (automatic detection)\n",
     "is_executing": false
    }
   }
  },
  {
   "cell_type": "code",
   "execution_count": 49,
   "outputs": [
    {
     "name": "stdout",
     "text": [
      "0     POLYGON ((135612.724 6810714.395, 135667.757 6...\n1     POLYGON ((135600.024 6809804.227, 135583.090 6...\n2     POLYGON ((135934.458 6808470.724, 135959.858 6...\n3     POLYGON ((135540.757 6810815.995, 135621.190 6...\n4     POLYGON ((135574.624 6811379.030, 135650.824 6...\n                            ...                        \n94    POLYGON ((135578.857 6811710.500, 135621.190 6...\n95    POLYGON ((135629.657 6809013.862, 135697.390 6...\n96    POLYGON ((135540.757 6810872.299, 135621.190 6...\n97    POLYGON ((135604.257 6809716.596, 135688.924 6...\n98    POLYGON ((135587.324 6810838.432, 135663.524 6...\nName: geometry, Length: 99, dtype: geometry\n{'init': 'epsg:32633'}\n"
     ],
     "output_type": "stream"
    }
   ],
   "source": [
    "satman = gpd.read_file(\"./data/satskred/SHP_merge/AvalDet_man_Merge.shp\")\n",
    "\n",
    "print(satman[\"geometry\"])\n",
    "print(satman.crs)"
   ],
   "metadata": {
    "collapsed": false,
    "pycharm": {
     "name": "#%% Read files and add date-time columns (automatic detection)\n",
     "is_executing": false
    }
   }
  },
  {
   "cell_type": "code",
   "execution_count": 48,
   "outputs": [
    {
     "data": {
      "text/plain": "{'init': 'epsg:4326', 'no_defs': True}"
     },
     "metadata": {},
     "output_type": "execute_result",
     "execution_count": 48
    }
   ],
   "source": [
    "from_epsg(4326)"
   ],
   "metadata": {
    "collapsed": false,
    "pycharm": {
     "name": "#%% \n",
     "is_executing": false
    }
   }
  },
  {
   "cell_type": "code",
   "execution_count": 45,
   "outputs": [
    {
     "traceback": [
      "\u001b[1;31m---------------------------------------------------------------------------\u001b[0m",
      "\u001b[1;31mAttributeError\u001b[0m                            Traceback (most recent call last)",
      "\u001b[1;32m<ipython-input-45-df9fc602c29a>\u001b[0m in \u001b[0;36m<module>\u001b[1;34m\u001b[0m\n\u001b[1;32m----> 1\u001b[1;33m \u001b[0msatman\u001b[0m\u001b[1;33m.\u001b[0m\u001b[0mProj\u001b[0m\u001b[1;33m(\u001b[0m\u001b[1;34m'+init=epsg:4326'\u001b[0m\u001b[1;33m,\u001b[0m \u001b[0mpreserve_flags\u001b[0m\u001b[1;33m=\u001b[0m\u001b[1;32mTrue\u001b[0m\u001b[1;33m)\u001b[0m\u001b[1;33m\u001b[0m\u001b[1;33m\u001b[0m\u001b[0m\n\u001b[0m\u001b[0;32m      2\u001b[0m \u001b[1;33m\u001b[0m\u001b[0m\n",
      "\u001b[1;32mc:\\AnacondaNVE\\lib\\site-packages\\pandas\\core\\generic.py\u001b[0m in \u001b[0;36m__getattr__\u001b[1;34m(self, name)\u001b[0m\n\u001b[0;32m   5177\u001b[0m             \u001b[1;32mif\u001b[0m \u001b[0mself\u001b[0m\u001b[1;33m.\u001b[0m\u001b[0m_info_axis\u001b[0m\u001b[1;33m.\u001b[0m\u001b[0m_can_hold_identifiers_and_holds_name\u001b[0m\u001b[1;33m(\u001b[0m\u001b[0mname\u001b[0m\u001b[1;33m)\u001b[0m\u001b[1;33m:\u001b[0m\u001b[1;33m\u001b[0m\u001b[1;33m\u001b[0m\u001b[0m\n\u001b[0;32m   5178\u001b[0m                 \u001b[1;32mreturn\u001b[0m \u001b[0mself\u001b[0m\u001b[1;33m[\u001b[0m\u001b[0mname\u001b[0m\u001b[1;33m]\u001b[0m\u001b[1;33m\u001b[0m\u001b[1;33m\u001b[0m\u001b[0m\n\u001b[1;32m-> 5179\u001b[1;33m             \u001b[1;32mreturn\u001b[0m \u001b[0mobject\u001b[0m\u001b[1;33m.\u001b[0m\u001b[0m__getattribute__\u001b[0m\u001b[1;33m(\u001b[0m\u001b[0mself\u001b[0m\u001b[1;33m,\u001b[0m \u001b[0mname\u001b[0m\u001b[1;33m)\u001b[0m\u001b[1;33m\u001b[0m\u001b[1;33m\u001b[0m\u001b[0m\n\u001b[0m\u001b[0;32m   5180\u001b[0m \u001b[1;33m\u001b[0m\u001b[0m\n\u001b[0;32m   5181\u001b[0m     \u001b[1;32mdef\u001b[0m \u001b[0m__setattr__\u001b[0m\u001b[1;33m(\u001b[0m\u001b[0mself\u001b[0m\u001b[1;33m,\u001b[0m \u001b[0mname\u001b[0m\u001b[1;33m,\u001b[0m \u001b[0mvalue\u001b[0m\u001b[1;33m)\u001b[0m\u001b[1;33m:\u001b[0m\u001b[1;33m\u001b[0m\u001b[1;33m\u001b[0m\u001b[0m\n",
      "\u001b[1;31mAttributeError\u001b[0m: 'GeoDataFrame' object has no attribute 'Proj'"
     ],
     "ename": "AttributeError",
     "evalue": "'GeoDataFrame' object has no attribute 'Proj'",
     "output_type": "error"
    }
   ],
   "source": [
    "Proj('+init=epsg:4326', preserve_flags=True)"
   ],
   "metadata": {
    "collapsed": false,
    "pycharm": {
     "name": "#%% gives error: b'no arguments in initialization list'\n",
     "is_executing": false
    }
   }
  },
  {
   "cell_type": "code",
   "execution_count": 50,
   "outputs": [
    {
     "traceback": [
      "\u001b[1;31m---------------------------------------------------------------------------\u001b[0m",
      "\u001b[1;31mRuntimeError\u001b[0m                              Traceback (most recent call last)",
      "\u001b[1;32m<ipython-input-50-ebc9d96dd8af>\u001b[0m in \u001b[0;36m<module>\u001b[1;34m\u001b[0m\n\u001b[1;32m----> 1\u001b[1;33m \u001b[0msatman\u001b[0m \u001b[1;33m=\u001b[0m \u001b[0msatman\u001b[0m\u001b[1;33m.\u001b[0m\u001b[0mto_crs\u001b[0m\u001b[1;33m(\u001b[0m\u001b[1;34m'epsg:4326'\u001b[0m\u001b[1;33m,\u001b[0m \u001b[0minplace\u001b[0m\u001b[1;33m=\u001b[0m\u001b[1;32mTrue\u001b[0m\u001b[1;33m)\u001b[0m\u001b[1;33m\u001b[0m\u001b[1;33m\u001b[0m\u001b[0m\n\u001b[0m\u001b[0;32m      2\u001b[0m \u001b[1;33m\u001b[0m\u001b[0m\n",
      "\u001b[1;32mc:\\AnacondaNVE\\lib\\site-packages\\geopandas\\geodataframe.py\u001b[0m in \u001b[0;36mto_crs\u001b[1;34m(self, crs, epsg, inplace)\u001b[0m\n\u001b[0;32m    532\u001b[0m         \u001b[1;32melse\u001b[0m\u001b[1;33m:\u001b[0m\u001b[1;33m\u001b[0m\u001b[1;33m\u001b[0m\u001b[0m\n\u001b[0;32m    533\u001b[0m             \u001b[0mdf\u001b[0m \u001b[1;33m=\u001b[0m \u001b[0mself\u001b[0m\u001b[1;33m.\u001b[0m\u001b[0mcopy\u001b[0m\u001b[1;33m(\u001b[0m\u001b[1;33m)\u001b[0m\u001b[1;33m\u001b[0m\u001b[1;33m\u001b[0m\u001b[0m\n\u001b[1;32m--> 534\u001b[1;33m         \u001b[0mgeom\u001b[0m \u001b[1;33m=\u001b[0m \u001b[0mdf\u001b[0m\u001b[1;33m.\u001b[0m\u001b[0mgeometry\u001b[0m\u001b[1;33m.\u001b[0m\u001b[0mto_crs\u001b[0m\u001b[1;33m(\u001b[0m\u001b[0mcrs\u001b[0m\u001b[1;33m=\u001b[0m\u001b[0mcrs\u001b[0m\u001b[1;33m,\u001b[0m \u001b[0mepsg\u001b[0m\u001b[1;33m=\u001b[0m\u001b[0mepsg\u001b[0m\u001b[1;33m)\u001b[0m\u001b[1;33m\u001b[0m\u001b[1;33m\u001b[0m\u001b[0m\n\u001b[0m\u001b[0;32m    535\u001b[0m         \u001b[0mdf\u001b[0m\u001b[1;33m.\u001b[0m\u001b[0mgeometry\u001b[0m \u001b[1;33m=\u001b[0m \u001b[0mgeom\u001b[0m\u001b[1;33m\u001b[0m\u001b[1;33m\u001b[0m\u001b[0m\n\u001b[0;32m    536\u001b[0m         \u001b[0mdf\u001b[0m\u001b[1;33m.\u001b[0m\u001b[0mcrs\u001b[0m \u001b[1;33m=\u001b[0m \u001b[0mgeom\u001b[0m\u001b[1;33m.\u001b[0m\u001b[0mcrs\u001b[0m\u001b[1;33m\u001b[0m\u001b[1;33m\u001b[0m\u001b[0m\n",
      "\u001b[1;32mc:\\AnacondaNVE\\lib\\site-packages\\geopandas\\geoseries.py\u001b[0m in \u001b[0;36mto_crs\u001b[1;34m(self, crs, epsg)\u001b[0m\n\u001b[0;32m    421\u001b[0m             \u001b[0mproject\u001b[0m \u001b[1;33m=\u001b[0m \u001b[0mtransformer\u001b[0m\u001b[1;33m.\u001b[0m\u001b[0mtransform\u001b[0m\u001b[1;33m\u001b[0m\u001b[1;33m\u001b[0m\u001b[0m\n\u001b[0;32m    422\u001b[0m         \u001b[1;32melse\u001b[0m\u001b[1;33m:\u001b[0m\u001b[1;33m\u001b[0m\u001b[1;33m\u001b[0m\u001b[0m\n\u001b[1;32m--> 423\u001b[1;33m             \u001b[0mproj_in\u001b[0m \u001b[1;33m=\u001b[0m \u001b[0mpyproj\u001b[0m\u001b[1;33m.\u001b[0m\u001b[0mProj\u001b[0m\u001b[1;33m(\u001b[0m\u001b[0mself\u001b[0m\u001b[1;33m.\u001b[0m\u001b[0mcrs\u001b[0m\u001b[1;33m,\u001b[0m \u001b[0mpreserve_units\u001b[0m\u001b[1;33m=\u001b[0m\u001b[1;32mTrue\u001b[0m\u001b[1;33m)\u001b[0m\u001b[1;33m\u001b[0m\u001b[1;33m\u001b[0m\u001b[0m\n\u001b[0m\u001b[0;32m    424\u001b[0m             \u001b[0mproj_out\u001b[0m \u001b[1;33m=\u001b[0m \u001b[0mpyproj\u001b[0m\u001b[1;33m.\u001b[0m\u001b[0mProj\u001b[0m\u001b[1;33m(\u001b[0m\u001b[0mcrs\u001b[0m\u001b[1;33m,\u001b[0m \u001b[0mpreserve_units\u001b[0m\u001b[1;33m=\u001b[0m\u001b[1;32mTrue\u001b[0m\u001b[1;33m)\u001b[0m\u001b[1;33m\u001b[0m\u001b[1;33m\u001b[0m\u001b[0m\n\u001b[0;32m    425\u001b[0m             \u001b[0mproject\u001b[0m \u001b[1;33m=\u001b[0m \u001b[0mpartial\u001b[0m\u001b[1;33m(\u001b[0m\u001b[0mpyproj\u001b[0m\u001b[1;33m.\u001b[0m\u001b[0mtransform\u001b[0m\u001b[1;33m,\u001b[0m \u001b[0mproj_in\u001b[0m\u001b[1;33m,\u001b[0m \u001b[0mproj_out\u001b[0m\u001b[1;33m)\u001b[0m\u001b[1;33m\u001b[0m\u001b[1;33m\u001b[0m\u001b[0m\n",
      "\u001b[1;32mc:\\AnacondaNVE\\lib\\site-packages\\pyproj\\__init__.py\u001b[0m in \u001b[0;36m__new__\u001b[1;34m(self, projparams, preserve_units, **kwargs)\u001b[0m\n\u001b[0;32m    360\u001b[0m         \u001b[1;31m# on case-insensitive filesystems).\u001b[0m\u001b[1;33m\u001b[0m\u001b[1;33m\u001b[0m\u001b[1;33m\u001b[0m\u001b[0m\n\u001b[0;32m    361\u001b[0m         \u001b[0mprojstring\u001b[0m \u001b[1;33m=\u001b[0m \u001b[0mprojstring\u001b[0m\u001b[1;33m.\u001b[0m\u001b[0mreplace\u001b[0m\u001b[1;33m(\u001b[0m\u001b[1;34m'EPSG'\u001b[0m\u001b[1;33m,\u001b[0m\u001b[1;34m'epsg'\u001b[0m\u001b[1;33m)\u001b[0m\u001b[1;33m\u001b[0m\u001b[1;33m\u001b[0m\u001b[0m\n\u001b[1;32m--> 362\u001b[1;33m         \u001b[1;32mreturn\u001b[0m \u001b[0m_proj\u001b[0m\u001b[1;33m.\u001b[0m\u001b[0mProj\u001b[0m\u001b[1;33m.\u001b[0m\u001b[0m__new__\u001b[0m\u001b[1;33m(\u001b[0m\u001b[0mself\u001b[0m\u001b[1;33m,\u001b[0m \u001b[0mprojstring\u001b[0m\u001b[1;33m)\u001b[0m\u001b[1;33m\u001b[0m\u001b[1;33m\u001b[0m\u001b[0m\n\u001b[0m\u001b[0;32m    363\u001b[0m \u001b[1;33m\u001b[0m\u001b[0m\n\u001b[0;32m    364\u001b[0m     \u001b[1;32mdef\u001b[0m \u001b[0m__call__\u001b[0m\u001b[1;33m(\u001b[0m\u001b[0mself\u001b[0m\u001b[1;33m,\u001b[0m \u001b[1;33m*\u001b[0m\u001b[0margs\u001b[0m\u001b[1;33m,\u001b[0m \u001b[1;33m**\u001b[0m\u001b[0mkw\u001b[0m\u001b[1;33m)\u001b[0m\u001b[1;33m:\u001b[0m\u001b[1;33m\u001b[0m\u001b[1;33m\u001b[0m\u001b[0m\n",
      "\u001b[1;32m_proj.pyx\u001b[0m in \u001b[0;36m_proj.Proj.__cinit__\u001b[1;34m()\u001b[0m\n",
      "\u001b[1;31mRuntimeError\u001b[0m: b'no arguments in initialization list'"
     ],
     "ename": "RuntimeError",
     "evalue": "b'no arguments in initialization list'",
     "output_type": "error"
    }
   ],
   "source": [
    "satman = satman.to_crs('epsg:4326', inplace=True)"
   ],
   "metadata": {
    "collapsed": false,
    "pycharm": {
     "name": "#%% gives error: b'no arguments in initialization list'\n",
     "is_executing": false
    }
   }
  },
  {
   "cell_type": "code",
   "execution_count": 32,
   "outputs": [
    {
     "name": "stdout",
     "text": [
      "0     POLYGON ((135612.724 6810714.395, 135667.757 6...\n1     POLYGON ((135600.024 6809804.227, 135583.090 6...\n2     POLYGON ((135934.458 6808470.724, 135959.858 6...\n3     POLYGON ((135540.757 6810815.995, 135621.190 6...\n4     POLYGON ((135574.624 6811379.030, 135650.824 6...\n                            ...                        \n94    POLYGON ((135578.857 6811710.500, 135621.190 6...\n95    POLYGON ((135629.657 6809013.862, 135697.390 6...\n96    POLYGON ((135540.757 6810872.299, 135621.190 6...\n97    POLYGON ((135604.257 6809716.596, 135688.924 6...\n98    POLYGON ((135587.324 6810838.432, 135663.524 6...\nName: geometry, Length: 99, dtype: geometry\n{'init': 'epsg:32633'}\n"
     ],
     "output_type": "stream"
    }
   ],
   "source": [
    "print(satman[\"geometry\"])\n",
    "print(satman.crs)"
   ],
   "metadata": {
    "collapsed": false,
    "pycharm": {
     "name": "#%%\n",
     "is_executing": false
    }
   }
  },
  {
   "cell_type": "code",
   "execution_count": null,
   "outputs": [],
   "source": [
    "# if pyproj.__version__ < 2.0\n",
    "#wys.crs = {'init': 'epsg:4326'}\n",
    "#wys.to_crs({'init': 'epsg:32633'}, inplace=True)\n",
    "\n",
    "#print(wys.crs) # should be equal to satman now"
   ],
   "metadata": {
    "collapsed": false,
    "pycharm": {
     "name": "#%%\n"
    }
   }
  },
  {
   "cell_type": "code",
   "execution_count": 4,
   "outputs": [
    {
     "name": "stdout",
     "text": [
      "{'init': 'epsg:4326'}\n           area aspect  det_count      east      length      north  \\\n0   8179.955693   None          1  8.208209  693.156305  61.241030   \n1   2493.877642   None          1  8.202517  320.765799  61.246145   \n2   4987.762637   None          1  8.201793  496.255925  61.260262   \n3   1596.120756   None          1  8.233580  258.389102  61.221129   \n4   4289.519691   None          1  8.215947  413.574372  61.235898   \n..          ...    ...        ...       ...         ...        ...   \n63  3092.479576   None          1  8.230557  403.812291  61.228879   \n64  2394.124806   None          1  8.200822  259.427435  61.264369   \n65  4688.505393   None          1  8.199478  425.172879  61.271856   \n66  1596.118915   None          1  8.231765  299.585010  61.223910   \n67  3690.926876   None          1  8.195374  434.031728  61.260144   \n\n    raster_val sat_geom                                             source  \\\n0         11.0      117  AvalDet_20190213_171036_ref_20190207_trno_117_...   \n1         12.0      117  AvalDet_20190213_171036_ref_20190207_trno_117_...   \n2         13.0      117  AvalDet_20190213_171036_ref_20190207_trno_117_...   \n3         11.0      117  AvalDet_20190303_170955_ref_20190225_trno_117_...   \n4         15.0      110  AvalDet_20190327_055427_ref_20190321_trno_110_...   \n..         ...      ...                                                ...   \n63        15.0       37  AvalDet_20170513_054647_ref_20170507_trno_037_...   \n64        27.0      117  AvalDet_20170530_171010_ref_20170524_trno_117_...   \n65        29.0      117  AvalDet_20170530_171010_ref_20170524_trno_117_...   \n66        17.0       44  AvalDet_20170531_170128_ref_20170525_trno_044_...   \n67        16.0      117  AvalDet_20161231_170935_ref_20161207_trno_117_...   \n\n                    t_0  ...   vh0_mean vh0_median    vh0_min    vh0_max  \\\n0   2019-02-07 00:00:00  ... -25.247803 -25.096189 -30.350231 -21.991838   \n1   2019-02-07 00:00:00  ... -26.337065 -26.209724 -30.223661 -22.515234   \n2   2019-02-07 00:00:00  ... -23.797068 -23.639370 -26.907249 -18.667583   \n3   2019-02-25 00:00:00  ... -25.410437 -25.462471 -27.476614 -22.781267   \n4   2019-03-21 00:00:00  ... -22.499571 -22.131783 -25.991516 -20.166420   \n..                  ...  ...        ...        ...        ...        ...   \n63  2017-05-07 00:00:00  ... -21.513769 -21.762726 -25.561518 -18.028208   \n64  2017-05-24 00:00:00  ... -29.750940 -29.416977 -36.069427 -26.751747   \n65  2017-05-24 00:00:00  ... -29.687811 -29.540611 -35.836994 -25.658403   \n66  2017-05-25 00:00:00  ... -25.265514 -24.819702 -29.115353 -23.189058   \n67  2016-12-07 00:00:00  ... -30.594744 -30.458412 -34.966465 -27.081316   \n\n   Shape_Leng    Shape_Area     refdate  detectdate  nr  \\\n0    0.007552  1.367056e-06  2019-02-07  2019-02-13  50   \n1    0.003500  4.168511e-07  2019-02-07  2019-02-13  51   \n2    0.005166  8.340760e-07  2019-02-07  2019-02-13  52   \n3    0.002763  2.665804e-07  2019-02-25  2019-03-03  53   \n4    0.004423  7.167603e-07  2019-03-21  2019-03-27  54   \n..        ...           ...         ...         ...  ..   \n63   0.004599  5.166251e-07  2017-05-07  2017-05-13  21   \n64   0.003125  4.004084e-07  2017-05-24  2017-05-30  22   \n65   0.004968  7.843203e-07  2017-05-24  2017-05-30  23   \n66   0.003134  2.666035e-07  2017-05-25  2017-05-31  24   \n67   0.004431  6.172108e-07  2016-12-07  2016-12-31   2   \n\n                                             geometry  \n0   POLYGON ((8.20802 61.24034, 8.20793 61.24078, ...  \n1   POLYGON ((8.20272 61.24584, 8.20268 61.24601, ...  \n2   POLYGON ((8.20247 61.25988, 8.20245 61.25997, ...  \n3   POLYGON ((8.23335 61.22088, 8.23333 61.22097, ...  \n4   POLYGON ((8.21541 61.23557, 8.21535 61.23584, ...  \n..                                                ...  \n63  POLYGON ((8.23063 61.22831, 8.23057 61.22858, ...  \n64  POLYGON ((8.20045 61.26402, 8.20040 61.26428, ...  \n65  POLYGON ((8.19905 61.27134, 8.19901 61.27151, ...  \n66  POLYGON ((8.23144 61.22367, 8.23142 61.22376, ...  \n67  POLYGON ((8.19518 61.25988, 8.19516 61.25996, ...  \n\n[68 rows x 45 columns]\n"
     ],
     "output_type": "stream"
    }
   ],
   "source": [
    "#sataut[\"t_0\"] = pd.to_datetime(sataut[\"t_0\"])\n",
    "#sataut[\"t_1\"] = pd.to_datetime(sataut[\"t_1\"])\n",
    "\n",
    "print(sataut.crs)\n",
    "print(sataut)"
   ],
   "metadata": {
    "collapsed": false,
    "pycharm": {
     "name": "#%%\n",
     "is_executing": false
    }
   }
  },
  {
   "cell_type": "code",
   "execution_count": 9,
   "outputs": [
    {
     "traceback": [
      "\u001b[1;31m---------------------------------------------------------------------------\u001b[0m",
      "\u001b[1;31mRuntimeError\u001b[0m                              Traceback (most recent call last)",
      "\u001b[1;32m<ipython-input-9-28a8c3211086>\u001b[0m in \u001b[0;36m<module>\u001b[1;34m\u001b[0m\n\u001b[0;32m      1\u001b[0m \u001b[0msataut\u001b[0m\u001b[1;33m.\u001b[0m\u001b[0mcrs\u001b[0m \u001b[1;33m=\u001b[0m \u001b[1;33m{\u001b[0m\u001b[1;34m'init'\u001b[0m\u001b[1;33m:\u001b[0m \u001b[1;34m'epsg:4326'\u001b[0m\u001b[1;33m}\u001b[0m\u001b[1;33m\u001b[0m\u001b[1;33m\u001b[0m\u001b[0m\n\u001b[1;32m----> 2\u001b[1;33m \u001b[0msataut\u001b[0m\u001b[1;33m.\u001b[0m\u001b[0mto_crs\u001b[0m\u001b[1;33m(\u001b[0m\u001b[1;33m{\u001b[0m\u001b[1;34m'init'\u001b[0m\u001b[1;33m:\u001b[0m \u001b[1;34m'epsg:32633'\u001b[0m\u001b[1;33m}\u001b[0m\u001b[1;33m,\u001b[0m \u001b[0minplace\u001b[0m\u001b[1;33m=\u001b[0m\u001b[1;32mTrue\u001b[0m\u001b[1;33m)\u001b[0m\u001b[1;33m\u001b[0m\u001b[1;33m\u001b[0m\u001b[0m\n\u001b[0m\u001b[0;32m      3\u001b[0m \u001b[1;33m\u001b[0m\u001b[0m\n",
      "\u001b[1;32mc:\\AnacondaNVE\\lib\\site-packages\\geopandas\\geodataframe.py\u001b[0m in \u001b[0;36mto_crs\u001b[1;34m(self, crs, epsg, inplace)\u001b[0m\n\u001b[0;32m    532\u001b[0m         \u001b[1;32melse\u001b[0m\u001b[1;33m:\u001b[0m\u001b[1;33m\u001b[0m\u001b[1;33m\u001b[0m\u001b[0m\n\u001b[0;32m    533\u001b[0m             \u001b[0mdf\u001b[0m \u001b[1;33m=\u001b[0m \u001b[0mself\u001b[0m\u001b[1;33m.\u001b[0m\u001b[0mcopy\u001b[0m\u001b[1;33m(\u001b[0m\u001b[1;33m)\u001b[0m\u001b[1;33m\u001b[0m\u001b[1;33m\u001b[0m\u001b[0m\n\u001b[1;32m--> 534\u001b[1;33m         \u001b[0mgeom\u001b[0m \u001b[1;33m=\u001b[0m \u001b[0mdf\u001b[0m\u001b[1;33m.\u001b[0m\u001b[0mgeometry\u001b[0m\u001b[1;33m.\u001b[0m\u001b[0mto_crs\u001b[0m\u001b[1;33m(\u001b[0m\u001b[0mcrs\u001b[0m\u001b[1;33m=\u001b[0m\u001b[0mcrs\u001b[0m\u001b[1;33m,\u001b[0m \u001b[0mepsg\u001b[0m\u001b[1;33m=\u001b[0m\u001b[0mepsg\u001b[0m\u001b[1;33m)\u001b[0m\u001b[1;33m\u001b[0m\u001b[1;33m\u001b[0m\u001b[0m\n\u001b[0m\u001b[0;32m    535\u001b[0m         \u001b[0mdf\u001b[0m\u001b[1;33m.\u001b[0m\u001b[0mgeometry\u001b[0m \u001b[1;33m=\u001b[0m \u001b[0mgeom\u001b[0m\u001b[1;33m\u001b[0m\u001b[1;33m\u001b[0m\u001b[0m\n\u001b[0;32m    536\u001b[0m         \u001b[0mdf\u001b[0m\u001b[1;33m.\u001b[0m\u001b[0mcrs\u001b[0m \u001b[1;33m=\u001b[0m \u001b[0mgeom\u001b[0m\u001b[1;33m.\u001b[0m\u001b[0mcrs\u001b[0m\u001b[1;33m\u001b[0m\u001b[1;33m\u001b[0m\u001b[0m\n",
      "\u001b[1;32mc:\\AnacondaNVE\\lib\\site-packages\\geopandas\\geoseries.py\u001b[0m in \u001b[0;36mto_crs\u001b[1;34m(self, crs, epsg)\u001b[0m\n\u001b[0;32m    421\u001b[0m             \u001b[0mproject\u001b[0m \u001b[1;33m=\u001b[0m \u001b[0mtransformer\u001b[0m\u001b[1;33m.\u001b[0m\u001b[0mtransform\u001b[0m\u001b[1;33m\u001b[0m\u001b[1;33m\u001b[0m\u001b[0m\n\u001b[0;32m    422\u001b[0m         \u001b[1;32melse\u001b[0m\u001b[1;33m:\u001b[0m\u001b[1;33m\u001b[0m\u001b[1;33m\u001b[0m\u001b[0m\n\u001b[1;32m--> 423\u001b[1;33m             \u001b[0mproj_in\u001b[0m \u001b[1;33m=\u001b[0m \u001b[0mpyproj\u001b[0m\u001b[1;33m.\u001b[0m\u001b[0mProj\u001b[0m\u001b[1;33m(\u001b[0m\u001b[0mself\u001b[0m\u001b[1;33m.\u001b[0m\u001b[0mcrs\u001b[0m\u001b[1;33m,\u001b[0m \u001b[0mpreserve_units\u001b[0m\u001b[1;33m=\u001b[0m\u001b[1;32mTrue\u001b[0m\u001b[1;33m)\u001b[0m\u001b[1;33m\u001b[0m\u001b[1;33m\u001b[0m\u001b[0m\n\u001b[0m\u001b[0;32m    424\u001b[0m             \u001b[0mproj_out\u001b[0m \u001b[1;33m=\u001b[0m \u001b[0mpyproj\u001b[0m\u001b[1;33m.\u001b[0m\u001b[0mProj\u001b[0m\u001b[1;33m(\u001b[0m\u001b[0mcrs\u001b[0m\u001b[1;33m,\u001b[0m \u001b[0mpreserve_units\u001b[0m\u001b[1;33m=\u001b[0m\u001b[1;32mTrue\u001b[0m\u001b[1;33m)\u001b[0m\u001b[1;33m\u001b[0m\u001b[1;33m\u001b[0m\u001b[0m\n\u001b[0;32m    425\u001b[0m             \u001b[0mproject\u001b[0m \u001b[1;33m=\u001b[0m \u001b[0mpartial\u001b[0m\u001b[1;33m(\u001b[0m\u001b[0mpyproj\u001b[0m\u001b[1;33m.\u001b[0m\u001b[0mtransform\u001b[0m\u001b[1;33m,\u001b[0m \u001b[0mproj_in\u001b[0m\u001b[1;33m,\u001b[0m \u001b[0mproj_out\u001b[0m\u001b[1;33m)\u001b[0m\u001b[1;33m\u001b[0m\u001b[1;33m\u001b[0m\u001b[0m\n",
      "\u001b[1;32mc:\\AnacondaNVE\\lib\\site-packages\\pyproj\\__init__.py\u001b[0m in \u001b[0;36m__new__\u001b[1;34m(self, projparams, preserve_units, **kwargs)\u001b[0m\n\u001b[0;32m    360\u001b[0m         \u001b[1;31m# on case-insensitive filesystems).\u001b[0m\u001b[1;33m\u001b[0m\u001b[1;33m\u001b[0m\u001b[1;33m\u001b[0m\u001b[0m\n\u001b[0;32m    361\u001b[0m         \u001b[0mprojstring\u001b[0m \u001b[1;33m=\u001b[0m \u001b[0mprojstring\u001b[0m\u001b[1;33m.\u001b[0m\u001b[0mreplace\u001b[0m\u001b[1;33m(\u001b[0m\u001b[1;34m'EPSG'\u001b[0m\u001b[1;33m,\u001b[0m\u001b[1;34m'epsg'\u001b[0m\u001b[1;33m)\u001b[0m\u001b[1;33m\u001b[0m\u001b[1;33m\u001b[0m\u001b[0m\n\u001b[1;32m--> 362\u001b[1;33m         \u001b[1;32mreturn\u001b[0m \u001b[0m_proj\u001b[0m\u001b[1;33m.\u001b[0m\u001b[0mProj\u001b[0m\u001b[1;33m.\u001b[0m\u001b[0m__new__\u001b[0m\u001b[1;33m(\u001b[0m\u001b[0mself\u001b[0m\u001b[1;33m,\u001b[0m \u001b[0mprojstring\u001b[0m\u001b[1;33m)\u001b[0m\u001b[1;33m\u001b[0m\u001b[1;33m\u001b[0m\u001b[0m\n\u001b[0m\u001b[0;32m    363\u001b[0m \u001b[1;33m\u001b[0m\u001b[0m\n\u001b[0;32m    364\u001b[0m     \u001b[1;32mdef\u001b[0m \u001b[0m__call__\u001b[0m\u001b[1;33m(\u001b[0m\u001b[0mself\u001b[0m\u001b[1;33m,\u001b[0m \u001b[1;33m*\u001b[0m\u001b[0margs\u001b[0m\u001b[1;33m,\u001b[0m \u001b[1;33m**\u001b[0m\u001b[0mkw\u001b[0m\u001b[1;33m)\u001b[0m\u001b[1;33m:\u001b[0m\u001b[1;33m\u001b[0m\u001b[1;33m\u001b[0m\u001b[0m\n",
      "\u001b[1;32m_proj.pyx\u001b[0m in \u001b[0;36m_proj.Proj.__cinit__\u001b[1;34m()\u001b[0m\n",
      "\u001b[1;31mRuntimeError\u001b[0m: b'no arguments in initialization list'"
     ],
     "ename": "RuntimeError",
     "evalue": "b'no arguments in initialization list'",
     "output_type": "error"
    }
   ],
   "source": [
    "sataut.crs = {'init': 'epsg:4326'}\n",
    "sataut.to_crs({'init': 'epsg:32633'}, inplace=True)"
   ],
   "metadata": {
    "collapsed": false,
    "pycharm": {
     "name": "#%%\n",
     "is_executing": false
    }
   }
  },
  {
   "cell_type": "code",
   "execution_count": 6,
   "outputs": [
    {
     "name": "stdout",
     "text": [
      "{'init': 'epsg:32633'}\n    OBJECTID        Date  SHAPE_Leng  Shape_Le_1    Shape_Area  \\\n0          1  2018-04-12  427.572238  427.572238  10331.562325   \n1          2  2018-04-12  371.313926  371.313926   7652.348664   \n2          3  2018-12-16  344.802691  344.802691   7688.192015   \n3          4  2018-12-27  789.153873  789.153873  34310.100008   \n4          5  2018-12-27  463.349262  463.349262   5905.022974   \n..       ...         ...         ...         ...           ...   \n94        32  2017-12-04  363.990209  363.990209   8924.745083   \n95        33  2017-04-18  274.579343  274.579343   5179.227499   \n96        34  2017-04-25  416.755834  416.755834  11684.607766   \n97        35  2017-04-25  603.325999  603.325999  14677.440377   \n98        36  2017-12-26  552.542800  552.542800  20277.810106   \n\n                                             geometry          d  \n0   POLYGON ((135612.724 6810714.395, 135667.757 6... 2018-04-12  \n1   POLYGON ((135600.024 6809804.227, 135583.090 6... 2018-04-12  \n2   POLYGON ((135934.458 6808470.724, 135959.858 6... 2018-12-16  \n3   POLYGON ((135540.757 6810815.995, 135621.190 6... 2018-12-27  \n4   POLYGON ((135574.624 6811379.030, 135650.824 6... 2018-12-27  \n..                                                ...        ...  \n94  POLYGON ((135578.857 6811710.500, 135621.190 6... 2017-12-04  \n95  POLYGON ((135629.657 6809013.862, 135697.390 6... 2017-04-18  \n96  POLYGON ((135540.757 6810872.299, 135621.190 6... 2017-04-25  \n97  POLYGON ((135604.257 6809716.596, 135688.924 6... 2017-04-25  \n98  POLYGON ((135587.324 6810838.432, 135663.524 6... 2017-12-26  \n\n[99 rows x 7 columns]\n"
     ],
     "output_type": "stream"
    }
   ],
   "source": [
    "satman = gpd.read_file(\"./data/satskred/SHP_merge/AvalDet_man_Merge.shp\")\n",
    "satman[\"d\"] = pd.to_datetime(satman[\"Date\"])\n",
    "#satman[\"t_1\"] = satman[\"t_0\"]+timedelta(days=6)\n",
    "#satman[\"days_interval\"] = satman.t_1 - satman.t_0\n",
    "\n",
    "print(satman.crs)\n",
    "print(satman)\n"
   ],
   "metadata": {
    "collapsed": false,
    "pycharm": {
     "name": "#%% Read files and add date-time columns (manual detection)\n",
     "is_executing": false
    }
   }
  },
  {
   "cell_type": "code",
   "execution_count": null,
   "outputs": [],
   "source": [
    "sat_gdf = satman.copy(deep=True) # makes the to dataframes independent, otherwise they are only referenced\n",
    "wys_gdf = sataut.copy(deep=True)"
   ],
   "metadata": {
    "collapsed": false,
    "pycharm": {
     "name": "#%% Input to loop\n"
    }
   }
  },
  {
   "cell_type": "code",
   "execution_count": null,
   "outputs": [],
   "source": [
    "wys_to_sat = {} #empty dictionary\n",
    "match_dict = {}\n",
    "\n",
    "for w_row in wys_gdf.itertuples():\n",
    "    sat_rows = sat_gdf[(sat_gdf[\"t_0\"] <= w_row.d) & (w_row.d <= sat_gdf[\"t_1\"])]\n",
    "    if len(sat_rows) == 0:\n",
    "        wys_to_sat[w_row.Index] = \"No match\"\n",
    "    else:\n",
    "        wys_to_sat[w_row.Index] = sat_rows.index\n",
    "        for i in sat_rows.index:\n",
    "            _s = sat_gdf['geometry'].iloc[i]\n",
    "            _w = wys_gdf['geometry'].iloc[w_row.Index]\n",
    "            if _s.intersects(_w):\n",
    "                try:\n",
    "                    match_dict[w_row.Index].append(i)\n",
    "                except KeyError:\n",
    "                    match_dict[w_row.Index] = [i]\n",
    "\n",
    "print(match_dict) "
   ],
   "metadata": {
    "collapsed": false,
    "pycharm": {
     "name": "#%% Check for polygons in time-interval\n"
    }
   }
  },
  {
   "cell_type": "code",
   "execution_count": null,
   "outputs": [],
   "source": [
    "print(str(match_dict[55]))\n",
    "for k in match_dict.keys():\n",
    "    print(k, wys_gdf['d'].iloc[k], match_dict[k])\n",
    "    ax = wys_gdf.iloc[[k]].plot()\n",
    "    sat_gdf.iloc[match_dict[k]].plot(ax=ax, color='r')\n",
    "    plt.gcf().savefig('match_wys{0}_satman{1}.png'.format(k, str(match_dict[k])))\n",
    "\n"
   ],
   "metadata": {
    "collapsed": false,
    "pycharm": {
     "name": "#%% Print intersecting polygons/matches\n"
    }
   }
  }
 ],
 "metadata": {
  "language_info": {
   "codemirror_mode": {
    "name": "ipython",
    "version": 2
   },
   "file_extension": ".py",
   "mimetype": "text/x-python",
   "name": "python",
   "nbconvert_exporter": "python",
   "pygments_lexer": "ipython2",
   "version": "2.7.6"
  },
  "kernelspec": {
   "name": "python3",
   "language": "python",
   "display_name": "Python 3"
  },
  "pycharm": {
   "stem_cell": {
    "cell_type": "raw",
    "source": [],
    "metadata": {
     "collapsed": false
    }
   }
  }
 },
 "nbformat": 4,
 "nbformat_minor": 0
}