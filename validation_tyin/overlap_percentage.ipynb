{
 "cells": [
  {
   "cell_type": "code",
   "execution_count": null,
   "outputs": [],
   "source": [
    "# Code from overlap of percentage satellite geometry and avalanche area:\n",
    "# Want to change it to get percentage overlap between wyssen polygon and satellite polygon"
   ],
   "metadata": {
    "collapsed": false,
    "pycharm": {
     "name": "#%% Calculate percentage overlap between the polygons\n"
    }
   }
  },
  {
   "cell_type": "code",
   "execution_count": null,
   "outputs": [],
   "source": [
    "print(satman['geometry'])\n",
    "print(wys['geometry'])"
   ],
   "metadata": {
    "collapsed": false,
    "pycharm": {
     "name": "#%%\n"
    }
   }
  },
  {
   "cell_type": "code",
   "execution_count": null,
   "outputs": [],
   "source": [
    "sat = satman"
   ],
   "metadata": {
    "collapsed": false,
    "pycharm": {
     "name": "#%%\n"
    }
   }
  },
  {
   "cell_type": "code",
   "execution_count": null,
   "outputs": [],
   "source": [
    "res_intersection = gpd.overlay(sat, wys, how='intersection')\n",
    "s_crs = sat.crs\n",
    "w_crs = wys.crs\n",
    "print(s_crs, w_crs)\n",
    "\n",
    "fig, ax = plt.subplots(1,1, figsize=(15,15))\n",
    "res_intersection.plot(ax=ax)\n",
    "wys.plot(ax=ax, color='red', alpha=0.3)"
   ],
   "metadata": {
    "collapsed": false,
    "pycharm": {
     "name": "#%%\n"
    }
   }
  },
  {
   "cell_type": "code",
   "execution_count": null,
   "outputs": [],
   "source": [
    "## Wasn't sure what was suppose to happen below this line, so did not spend much time on it."
   ],
   "metadata": {
    "collapsed": false,
    "pycharm": {
     "name": "#%%\n"
    }
   }
  },
  {
   "cell_type": "code",
   "execution_count": null,
   "outputs": [],
   "source": [
    "aval_name = 'TYIN_skog1_obs_20170112'\n",
    "wg = wys[wys['Name']==aval_name].area\n",
    "print(wg.iloc[0])\n",
    "ri_a = res_intersection[res_intersection['Name']==aval_name]\n",
    "print(ri_a)\n",
    "# ri_a = res_intersection[[res_intersection['Name']==aval_name] & res_intersection['gridcode']==].area\n",
    "print(ri_a.iloc[0])\n",
    "print(ri_a.iloc[0]/wg.iloc[0]*100)"
   ],
   "metadata": {
    "collapsed": false,
    "pycharm": {
     "name": "#%%\n"
    }
   }
  },
  {
   "cell_type": "code",
   "execution_count": null,
   "outputs": [],
   "source": [
    "aval_names = wys['Name'].unique()\n",
    "print(aval_names, len(aval_names))"
   ],
   "metadata": {
    "collapsed": false,
    "pycharm": {
     "name": "#%%\n"
    }
   }
  },
  {
   "cell_type": "code",
   "execution_count": null,
   "outputs": [],
   "source": [
    "for aval_name in aval_names:\n",
    "    aval_area = wys[wys['Name']==aval_name].area\n",
    "    \n",
    "    i_area = res_intersection[res_intersection['Name']==aval_name].area\n",
    "    print(i_area)\n",
    "    # row['overlap_gc'] = i_area/aval_area\n",
    "    overlap_gc = i_area/aval_area\n",
    "    \n",
    "    print(overlap_gc)\n",
    "    # \n",
    "    # for gc in range(5):\n",
    "    #     try:\n",
    "    #         ri_a = res_intersection[res_intersection['Name']==aval_name]['gridcode']\n"
   ],
   "metadata": {
    "collapsed": false,
    "pycharm": {
     "name": "#%%\n"
    }
   }
  },
  {
   "cell_type": "code",
   "execution_count": null,
   "outputs": [],
   "source": [
    "for aval_name in aval_names:\n",
    "    aval_area = wys[wys['Name'] == aval_name].area\n",
    "    aval_area = aval_area.iloc[0]\n",
    "    print(aval_name)\n",
    "\n",
    "    overlap_sum = 0\n",
    "    # i_area = res_intersection[res_intersection['Name'] == aval_name].area\n",
    "    for gc in range(5):\n",
    "        i_area = res_intersection[(res_intersection['Name'] == aval_name) & (res_intersection['gridcode'] == gc)].area\n",
    "        try:\n",
    "            _i_area = 0\n",
    "            for i in range(len(i_area)):\n",
    "                x = i_area.iloc[i]\n",
    "                _i_area += x\n",
    "            # row['overlap_gc'] = i_area/aval_area\n",
    "            overlap_gc = _i_area / aval_area\n",
    "\n",
    "            print('\\tGC:', gc, '-', i_area, 'ovelap:', overlap_gc*100.)\n",
    "        except IndexError:\n",
    "            print('\\tno overlapp with gc ', gc)\n",
    "\n",
    "        overlap_sum += overlap_gc\n",
    "        print('\\tsum: ', overlap_sum)\n",
    "        a=1\n",
    "\n",
    "\n",
    "\n"
   ],
   "metadata": {
    "collapsed": false,
    "pycharm": {
     "name": "#%%\n"
    }
   }
  }
 ],
 "metadata": {
  "language_info": {
   "codemirror_mode": {
    "name": "ipython",
    "version": 2
   },
   "file_extension": ".py",
   "mimetype": "text/x-python",
   "name": "python",
   "nbconvert_exporter": "python",
   "pygments_lexer": "ipython2",
   "version": "2.7.6"
  },
  "kernelspec": {
   "name": "python3",
   "language": "python",
   "display_name": "Python 3"
  },
  "pycharm": {
   "stem_cell": {
    "cell_type": "raw",
    "source": [],
    "metadata": {
     "collapsed": false
    }
   }
  }
 },
 "nbformat": 4,
 "nbformat_minor": 0
}