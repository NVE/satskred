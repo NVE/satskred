{
 "cells": [
  {
   "cell_type": "code",
   "execution_count": 1,
   "metadata": {
    "pycharm": {
     "is_executing": false,
     "name": "#%% Import\n"
    }
   },
   "outputs": [],
   "source": [
    "import geopandas as gpd"
   ]
  },
  {
   "cell_type": "code",
   "execution_count": 7,
   "outputs": [],
   "source": [
    "import pyproj"
   ],
   "metadata": {
    "collapsed": false,
    "pycharm": {
     "name": "#%%\n",
     "is_executing": false
    }
   }
  },
  {
   "cell_type": "code",
   "execution_count": 2,
   "outputs": [],
   "source": [
    "import pandas as pd\n",
    "import matplotlib\n",
    "import matplotlib.pyplot as plt\n",
    "import seaborn as sb\n",
    "import numpy as np\n",
    "from datetime import datetime, timedelta\n"
   ],
   "metadata": {
    "collapsed": false,
    "pycharm": {
     "name": "#%%\n",
     "is_executing": false
    }
   }
  },
  {
   "cell_type": "code",
   "execution_count": 3,
   "metadata": {
    "pycharm": {
     "is_executing": false,
     "name": "#%% (kmu)\n"
    }
   },
   "outputs": [
    {
     "name": "stdout",
     "text": [
      "1.9.6\n0.6.1\n"
     ],
     "output_type": "stream"
    }
   ],
   "source": [
    "# Check installed versions - there is a difference bewtween pyproj <2.0 and >2.0\n",
    "import pyproj\n",
    "print(pyproj.__version__)\n",
    "print(gpd.__version__)"
   ]
  },
  {
   "cell_type": "code",
   "execution_count": 4,
   "metadata": {
    "pycharm": {
     "is_executing": false,
     "name": "#%% Read files and add date-time columns (manual detection)\n"
    }
   },
   "outputs": [],
   "source": [
    "satman = gpd.read_file(\"./data/satskred/SHP_merge/AvalDet_man_Merge.shp\")\n",
    "satman[\"t_1\"] = pd.to_datetime(satman[\"Date\"])\n",
    "satman[\"t_0\"] = satman[\"t_1\"]-timedelta(days=6)\n",
    "satman[\"days_interval\"] = satman.t_1 - satman.t_0"
   ]
  },
  {
   "cell_type": "code",
   "execution_count": 5,
   "outputs": [
    {
     "name": "stdout",
     "text": [
      "0    2018-04-06\n1    2018-04-06\n2    2018-12-10\n3    2018-12-21\n4    2018-12-21\n        ...    \n94   2017-11-28\n95   2017-04-12\n96   2017-04-19\n97   2017-04-19\n98   2017-12-20\nName: t_0, Length: 99, dtype: datetime64[ns]\n0    2018-04-12\n1    2018-04-12\n2    2018-12-16\n3    2018-12-27\n4    2018-12-27\n        ...    \n94   2017-12-04\n95   2017-04-18\n96   2017-04-25\n97   2017-04-25\n98   2017-12-26\nName: t_1, Length: 99, dtype: datetime64[ns]\n"
     ],
     "output_type": "stream"
    }
   ],
   "source": [
    "print(satman[\"t_0\"])\n",
    "print(satman[\"t_1\"])"
   ],
   "metadata": {
    "collapsed": false,
    "pycharm": {
     "name": "#%%\n",
     "is_executing": false
    }
   }
  },
  {
   "cell_type": "code",
   "execution_count": 6,
   "outputs": [
    {
     "name": "stdout",
     "text": [
      "0     POLYGON ((135612.724 6810714.395, 135667.757 6...\n1     POLYGON ((135600.024 6809804.227, 135583.090 6...\n2     POLYGON ((135934.458 6808470.724, 135959.858 6...\n3     POLYGON ((135540.757 6810815.995, 135621.190 6...\n4     POLYGON ((135574.624 6811379.030, 135650.824 6...\n                            ...                        \n94    POLYGON ((135578.857 6811710.500, 135621.190 6...\n95    POLYGON ((135629.657 6809013.862, 135697.390 6...\n96    POLYGON ((135540.757 6810872.299, 135621.190 6...\n97    POLYGON ((135604.257 6809716.596, 135688.924 6...\n98    POLYGON ((135587.324 6810838.432, 135663.524 6...\nName: geometry, Length: 99, dtype: geometry\n{'init': 'epsg:32633'}\n"
     ],
     "output_type": "stream"
    }
   ],
   "source": [
    "print(satman[\"geometry\"])\n",
    "print(satman.crs)"
   ],
   "metadata": {
    "collapsed": false,
    "pycharm": {
     "name": "#%%\n",
     "is_executing": false
    }
   }
  },
  {
   "cell_type": "code",
   "execution_count": 7,
   "outputs": [],
   "source": [
    "wys = gpd.read_file(\"./data/wyssen/wys_33/wys_33.shp\")  # apparently the shapefile does not contain a coordinate system\n",
    "wys[\"d\"] = pd.to_datetime(wys[\"avalancher\"])"
   ],
   "metadata": {
    "collapsed": false,
    "pycharm": {
     "name": "#%% Read files and add date-time columns (manual detection)\n",
     "is_executing": false
    }
   }
  },
  {
   "cell_type": "code",
   "execution_count": 8,
   "outputs": [
    {
     "name": "stdout",
     "text": [
      "0      POLYGON ((136792.947 6805941.977, 136817.865 6...\n1      POLYGON ((135339.642 6810758.275, 135340.109 6...\n2      POLYGON ((135534.618 6809464.920, 135534.077 6...\n3      POLYGON ((135942.073 6811894.003, 135945.997 6...\n4      POLYGON ((136733.684 6805770.579, 136732.967 6...\n                             ...                        \n362    POLYGON ((136736.334 6805686.774, 136735.399 6...\n363    POLYGON ((135502.250 6810214.313, 135504.536 6...\n364    POLYGON ((135367.173 6810781.032, 135368.483 6...\n365    POLYGON ((135363.855 6810782.972, 135365.240 6...\n366    POLYGON ((135497.677 6810338.161, 135500.911 6...\nName: geometry, Length: 367, dtype: geometry\n{'init': 'epsg:32633'}\n"
     ],
     "output_type": "stream"
    }
   ],
   "source": [
    "print(wys[\"geometry\"])\n",
    "print(wys.crs) # fixed in ArcGis Pro using \"Define projection\"-tool\n"
   ],
   "metadata": {
    "collapsed": false,
    "pycharm": {
     "name": "#%%\n",
     "is_executing": false
    }
   }
  },
  {
   "cell_type": "code",
   "execution_count": 9,
   "metadata": {
    "pycharm": {
     "is_executing": false,
     "name": "#%% Input to loop (kmu)\n"
    }
   },
   "outputs": [],
   "source": [
    "sat_gdf = satman.copy(deep=True) # makes the to dataframes independent, otherwise they are only referenced\n",
    "wys_gdf = wys.copy(deep=True)"
   ]
  },
  {
   "cell_type": "code",
   "execution_count": 10,
   "outputs": [],
   "source": [
    "sat_gdf = satman\n",
    "wys_gdf = wys"
   ],
   "metadata": {
    "collapsed": false,
    "pycharm": {
     "name": "#%%\n",
     "is_executing": false
    }
   }
  },
  {
   "cell_type": "code",
   "execution_count": 11,
   "metadata": {
    "pycharm": {
     "is_executing": false,
     "name": "#%% Check for polygons in time-interval\n"
    }
   },
   "outputs": [],
   "source": [
    "wys_to_sat = {} #empty dictionary\n",
    "match_dict = {}\n",
    "\n",
    "for w_row in wys_gdf.itertuples():\n",
    "    sat_rows = sat_gdf[(sat_gdf[\"t_0\"] <= w_row.d) & (w_row.d <= sat_gdf[\"t_1\"])]\n",
    "    if len(sat_rows) == 0:\n",
    "        wys_to_sat[w_row.Index] = \"No match\"\n",
    "    else:\n",
    "        wys_to_sat[w_row.Index] = sat_rows.index\n",
    "        for i in sat_rows.index:\n",
    "            _s = sat_gdf['geometry'].iloc[i]\n",
    "            _w = wys_gdf['geometry'].iloc[w_row.Index]\n",
    "            if _s.intersects(_w):\n",
    "                try:\n",
    "                    match_dict[w_row.Index].append(i)\n",
    "                except KeyError:\n",
    "                    match_dict[w_row.Index] = [i]"
   ]
  },
  {
   "cell_type": "code",
   "execution_count": 12,
   "outputs": [
    {
     "data": {
      "text/plain": "{0: 'No match',\n 1: 'No match',\n 2: 'No match',\n 3: 'No match',\n 4: 'No match',\n 5: 'No match',\n 6: 'No match',\n 7: 'No match',\n 8: 'No match',\n 9: 'No match',\n 10: 'No match',\n 11: 'No match',\n 12: 'No match',\n 13: 'No match',\n 14: 'No match',\n 15: 'No match',\n 16: 'No match',\n 17: 'No match',\n 18: Int64Index([72, 73, 74, 75, 76, 77], dtype='int64'),\n 19: Int64Index([72, 73, 74, 75, 76, 77], dtype='int64'),\n 20: Int64Index([72, 73, 74, 75, 76, 77], dtype='int64'),\n 21: Int64Index([72, 73, 74, 75, 76, 77], dtype='int64'),\n 22: Int64Index([72, 73, 74, 75, 76, 77], dtype='int64'),\n 23: Int64Index([72, 73, 74, 75, 76, 77], dtype='int64'),\n 24: Int64Index([72, 73, 74, 75, 76, 77], dtype='int64'),\n 25: Int64Index([72, 73, 74, 75, 76, 77], dtype='int64'),\n 26: Int64Index([72, 73, 74, 75, 76, 77], dtype='int64'),\n 27: Int64Index([72, 73, 74, 75, 76, 77], dtype='int64'),\n 28: Int64Index([72, 73, 74, 75, 76, 77], dtype='int64'),\n 29: 'No match',\n 30: 'No match',\n 31: 'No match',\n 32: 'No match',\n 33: 'No match',\n 34: 'No match',\n 35: 'No match',\n 36: 'No match',\n 37: 'No match',\n 38: 'No match',\n 39: Int64Index([42, 43, 44, 80, 81], dtype='int64'),\n 40: Int64Index([42, 43, 44, 80, 81], dtype='int64'),\n 41: Int64Index([42, 43, 44, 80, 81], dtype='int64'),\n 42: Int64Index([42, 43, 44, 80, 81], dtype='int64'),\n 43: Int64Index([42, 43, 44, 80, 81], dtype='int64'),\n 44: Int64Index([42, 43, 44, 80, 81], dtype='int64'),\n 45: Int64Index([82], dtype='int64'),\n 46: Int64Index([82], dtype='int64'),\n 47: Int64Index([82], dtype='int64'),\n 48: Int64Index([82], dtype='int64'),\n 49: Int64Index([82], dtype='int64'),\n 50: Int64Index([82], dtype='int64'),\n 51: Int64Index([82], dtype='int64'),\n 52: Int64Index([82], dtype='int64'),\n 53: Int64Index([82], dtype='int64'),\n 54: Int64Index([82], dtype='int64'),\n 55: Int64Index([82], dtype='int64'),\n 56: Int64Index([82], dtype='int64'),\n 57: Int64Index([82], dtype='int64'),\n 58: Int64Index([82], dtype='int64'),\n 59: Int64Index([82], dtype='int64'),\n 60: Int64Index([82], dtype='int64'),\n 61: Int64Index([82], dtype='int64'),\n 62: Int64Index([82], dtype='int64'),\n 63: Int64Index([82], dtype='int64'),\n 64: Int64Index([82], dtype='int64'),\n 65: Int64Index([82], dtype='int64'),\n 66: Int64Index([82], dtype='int64'),\n 67: Int64Index([82], dtype='int64'),\n 68: Int64Index([82], dtype='int64'),\n 69: Int64Index([82], dtype='int64'),\n 70: Int64Index([82], dtype='int64'),\n 71: Int64Index([82], dtype='int64'),\n 72: Int64Index([82], dtype='int64'),\n 73: Int64Index([83, 84, 85, 86, 87, 88, 89, 90, 91, 92], dtype='int64'),\n 74: Int64Index([83, 84, 85, 86, 87, 88, 89, 90, 91, 92], dtype='int64'),\n 75: Int64Index([83, 84, 85, 86, 87, 88, 89, 90, 91, 92], dtype='int64'),\n 76: Int64Index([83, 84, 85, 86, 87, 88, 89, 90, 91, 92], dtype='int64'),\n 77: Int64Index([83, 84, 85, 86, 87, 88, 89, 90, 91, 92], dtype='int64'),\n 78: Int64Index([83, 84, 85, 86, 87, 88, 89, 90, 91, 92], dtype='int64'),\n 79: Int64Index([83, 84, 85, 86, 87, 88, 89, 90, 91, 92], dtype='int64'),\n 80: Int64Index([83, 84, 85, 86, 87, 88, 89, 90, 91, 92], dtype='int64'),\n 81: Int64Index([83, 84, 85, 86, 87, 88, 89, 90, 91, 92], dtype='int64'),\n 82: Int64Index([83, 84, 85, 86, 87, 88, 89, 90, 91, 92], dtype='int64'),\n 83: Int64Index([83, 84, 85, 86, 87, 88, 89, 90, 91, 92], dtype='int64'),\n 84: Int64Index([83, 84, 85, 86, 87, 88, 89, 90, 91, 92], dtype='int64'),\n 85: Int64Index([83, 84, 85, 86, 87, 88, 89, 90, 91, 92], dtype='int64'),\n 86: Int64Index([83, 84, 85, 86, 87, 88, 89, 90, 91, 92], dtype='int64'),\n 87: Int64Index([83, 84, 85, 86, 87, 88, 89, 90, 91, 92], dtype='int64'),\n 88: 'No match',\n 89: 'No match',\n 90: 'No match',\n 91: 'No match',\n 92: 'No match',\n 93: 'No match',\n 94: 'No match',\n 95: Int64Index([96, 97], dtype='int64'),\n 96: Int64Index([96, 97], dtype='int64'),\n 97: Int64Index([96, 97], dtype='int64'),\n 98: Int64Index([96, 97], dtype='int64'),\n 99: Int64Index([96, 97], dtype='int64'),\n 100: Int64Index([96, 97], dtype='int64'),\n 101: Int64Index([96, 97], dtype='int64'),\n 102: Int64Index([96, 97], dtype='int64'),\n 103: Int64Index([96, 97], dtype='int64'),\n 104: Int64Index([96, 97], dtype='int64'),\n 105: Int64Index([96, 97], dtype='int64'),\n 106: Int64Index([96, 97], dtype='int64'),\n 107: Int64Index([96, 97], dtype='int64'),\n 108: 'No match',\n 109: 'No match',\n 110: 'No match',\n 111: 'No match',\n 112: 'No match',\n 113: 'No match',\n 114: 'No match',\n 115: Int64Index([94], dtype='int64'),\n 116: Int64Index([94], dtype='int64'),\n 117: Int64Index([94], dtype='int64'),\n 118: Int64Index([94], dtype='int64'),\n 119: Int64Index([94], dtype='int64'),\n 120: Int64Index([94], dtype='int64'),\n 121: 'No match',\n 122: 'No match',\n 123: 'No match',\n 124: 'No match',\n 125: 'No match',\n 126: 'No match',\n 127: 'No match',\n 128: 'No match',\n 129: 'No match',\n 130: 'No match',\n 131: 'No match',\n 132: Int64Index([46, 98], dtype='int64'),\n 133: Int64Index([46, 98], dtype='int64'),\n 134: Int64Index([46, 98], dtype='int64'),\n 135: Int64Index([46, 98], dtype='int64'),\n 136: Int64Index([46, 98], dtype='int64'),\n 137: Int64Index([46, 98], dtype='int64'),\n 138: Int64Index([46, 98], dtype='int64'),\n 139: Int64Index([46, 98], dtype='int64'),\n 140: Int64Index([46, 98], dtype='int64'),\n 141: Int64Index([46, 98], dtype='int64'),\n 142: Int64Index([46, 98], dtype='int64'),\n 143: Int64Index([46, 98], dtype='int64'),\n 144: Int64Index([46, 98], dtype='int64'),\n 145: Int64Index([46, 98], dtype='int64'),\n 146: Int64Index([46, 98], dtype='int64'),\n 147: Int64Index([46, 98], dtype='int64'),\n 148: 'No match',\n 149: 'No match',\n 150: 'No match',\n 151: 'No match',\n 152: 'No match',\n 153: 'No match',\n 154: 'No match',\n 155: 'No match',\n 156: 'No match',\n 157: 'No match',\n 158: 'No match',\n 159: Int64Index([51, 52, 53], dtype='int64'),\n 160: Int64Index([51, 52, 53], dtype='int64'),\n 161: Int64Index([51, 52, 53], dtype='int64'),\n 162: Int64Index([51, 52, 53], dtype='int64'),\n 163: Int64Index([51, 52, 53], dtype='int64'),\n 164: Int64Index([51, 52, 53], dtype='int64'),\n 165: Int64Index([51, 52, 53], dtype='int64'),\n 166: Int64Index([51, 52, 53], dtype='int64'),\n 167: Int64Index([51, 52, 53], dtype='int64'),\n 168: Int64Index([51, 52, 53], dtype='int64'),\n 169: Int64Index([51, 52, 53], dtype='int64'),\n 170: Int64Index([51, 52, 53], dtype='int64'),\n 171: Int64Index([51, 52, 53], dtype='int64'),\n 172: Int64Index([51, 52, 53], dtype='int64'),\n 173: Int64Index([51, 52, 53], dtype='int64'),\n 174: Int64Index([51, 52, 53], dtype='int64'),\n 175: Int64Index([51, 52, 53], dtype='int64'),\n 176: Int64Index([51, 52, 53], dtype='int64'),\n 177: Int64Index([51, 52, 53], dtype='int64'),\n 178: Int64Index([51, 52, 53], dtype='int64'),\n 179: Int64Index([51, 52, 53], dtype='int64'),\n 180: Int64Index([51, 52, 53], dtype='int64'),\n 181: Int64Index([51, 52, 53], dtype='int64'),\n 182: 'No match',\n 183: 'No match',\n 184: 'No match',\n 185: 'No match',\n 186: 'No match',\n 187: 'No match',\n 188: 'No match',\n 189: 'No match',\n 190: 'No match',\n 191: 'No match',\n 192: 'No match',\n 193: 'No match',\n 194: 'No match',\n 195: 'No match',\n 196: 'No match',\n 197: Int64Index([47], dtype='int64'),\n 198: Int64Index([47], dtype='int64'),\n 199: Int64Index([47], dtype='int64'),\n 200: Int64Index([47], dtype='int64'),\n 201: Int64Index([47], dtype='int64'),\n 202: Int64Index([47], dtype='int64'),\n 203: Int64Index([47], dtype='int64'),\n 204: Int64Index([47], dtype='int64'),\n 205: Int64Index([47], dtype='int64'),\n 206: Int64Index([47], dtype='int64'),\n 207: 'No match',\n 208: Int64Index([57], dtype='int64'),\n 209: Int64Index([57], dtype='int64'),\n 210: 'No match',\n 211: 'No match',\n 212: 'No match',\n 213: 'No match',\n 214: 'No match',\n 215: 'No match',\n 216: 'No match',\n 217: 'No match',\n 218: 'No match',\n 219: 'No match',\n 220: 'No match',\n 221: 'No match',\n 222: 'No match',\n 223: 'No match',\n 224: 'No match',\n 225: 'No match',\n 226: 'No match',\n 227: 'No match',\n 228: 'No match',\n 229: 'No match',\n 230: 'No match',\n 231: 'No match',\n 232: 'No match',\n 233: 'No match',\n 234: 'No match',\n 235: 'No match',\n 236: 'No match',\n 237: 'No match',\n 238: Int64Index([0, 1], dtype='int64'),\n 239: Int64Index([0, 1], dtype='int64'),\n 240: Int64Index([0, 1], dtype='int64'),\n 241: Int64Index([0, 1], dtype='int64'),\n 242: Int64Index([0, 1], dtype='int64'),\n 243: Int64Index([0, 1], dtype='int64'),\n 244: Int64Index([0, 1], dtype='int64'),\n 245: Int64Index([0, 1], dtype='int64'),\n 246: Int64Index([0, 1], dtype='int64'),\n 247: Int64Index([0, 1], dtype='int64'),\n 248: Int64Index([0, 1], dtype='int64'),\n 249: Int64Index([0, 1], dtype='int64'),\n 250: Int64Index([0, 1], dtype='int64'),\n 251: Int64Index([0, 1], dtype='int64'),\n 252: Int64Index([0, 1], dtype='int64'),\n 253: Int64Index([0, 1], dtype='int64'),\n 254: Int64Index([0, 1, 59], dtype='int64'),\n 255: Int64Index([59], dtype='int64'),\n 256: 'No match',\n 257: 'No match',\n 258: 'No match',\n 259: 'No match',\n 260: 'No match',\n 261: 'No match',\n 262: Int64Index([30], dtype='int64'),\n 263: Int64Index([30], dtype='int64'),\n 264: Int64Index([24, 25, 26, 27, 28, 29, 30], dtype='int64'),\n 265: Int64Index([24, 25, 26, 27, 28, 29, 30], dtype='int64'),\n 266: Int64Index([24, 25, 26, 27, 28, 29, 30], dtype='int64'),\n 267: Int64Index([24, 25, 26, 27, 28, 29, 30], dtype='int64'),\n 268: Int64Index([24, 25, 26, 27, 28, 29, 30], dtype='int64'),\n 269: Int64Index([24, 25, 26, 27, 28, 29, 30], dtype='int64'),\n 270: Int64Index([24, 25, 26, 27, 28, 29, 30], dtype='int64'),\n 271: Int64Index([24, 25, 26, 27, 28, 29, 30], dtype='int64'),\n 272: Int64Index([24, 25, 26, 27, 28, 29, 30], dtype='int64'),\n 273: Int64Index([24, 25, 26, 27, 28, 29, 30], dtype='int64'),\n 274: Int64Index([24, 25, 26, 27, 28, 29, 30], dtype='int64'),\n 275: Int64Index([24, 25, 26, 27, 28, 29, 30], dtype='int64'),\n 276: Int64Index([24, 25, 26, 27, 28, 29, 30], dtype='int64'),\n 277: Int64Index([24, 25, 26, 27, 28, 29, 30], dtype='int64'),\n 278: Int64Index([24, 25, 26, 27, 28, 29, 30], dtype='int64'),\n 279: Int64Index([24, 25, 26, 27, 28, 29, 30], dtype='int64'),\n 280: Int64Index([22, 23, 24, 25, 26, 27, 28, 29], dtype='int64'),\n 281: Int64Index([22, 23], dtype='int64'),\n 282: Int64Index([22, 23], dtype='int64'),\n 283: Int64Index([22, 23], dtype='int64'),\n 284: Int64Index([22, 23], dtype='int64'),\n 285: Int64Index([22, 23], dtype='int64'),\n 286: Int64Index([22, 23], dtype='int64'),\n 287: Int64Index([22, 23], dtype='int64'),\n 288: Int64Index([22, 23], dtype='int64'),\n 289: Int64Index([22, 23], dtype='int64'),\n 290: Int64Index([22, 23], dtype='int64'),\n 291: Int64Index([22, 23], dtype='int64'),\n 292: 'No match',\n 293: 'No match',\n 294: 'No match',\n 295: 'No match',\n 296: 'No match',\n 297: 'No match',\n 298: 'No match',\n 299: 'No match',\n 300: 'No match',\n 301: 'No match',\n 302: 'No match',\n 303: 'No match',\n 304: 'No match',\n 305: Int64Index([10, 11, 12, 13, 14, 15, 16, 17, 18, 19, 20], dtype='int64'),\n 306: Int64Index([10, 11, 12, 13, 14, 15, 16, 17, 18, 19, 20], dtype='int64'),\n 307: Int64Index([10, 11, 12, 13, 14, 15, 16, 17, 18, 19, 20], dtype='int64'),\n 308: Int64Index([10, 11, 12, 13, 14, 15, 16, 17, 18, 19, 20], dtype='int64'),\n 309: Int64Index([10, 11, 12, 13, 14, 15, 16, 17, 18, 19, 20], dtype='int64'),\n 310: Int64Index([10, 11, 12, 13, 14, 15, 16, 17, 18, 19, 20], dtype='int64'),\n 311: Int64Index([10, 11, 12, 13, 14, 15, 16, 17, 18, 19, 20], dtype='int64'),\n 312: Int64Index([10, 11, 12, 13, 14, 15, 16, 17, 18, 19, 20], dtype='int64'),\n 313: Int64Index([10, 11, 12, 13, 14, 15, 16, 17, 18, 19, 20], dtype='int64'),\n 314: Int64Index([10, 11, 12, 13, 14, 15, 16, 17, 18, 19, 20], dtype='int64'),\n 315: Int64Index([10, 11, 12, 13, 14, 15, 16, 17, 18, 19, 20], dtype='int64'),\n 316: Int64Index([10, 11, 12, 13, 14, 15, 16, 17, 18, 19, 20], dtype='int64'),\n 317: Int64Index([10, 11, 12, 13, 14, 15, 16, 17, 18, 19, 20], dtype='int64'),\n 318: Int64Index([10, 11, 12, 13, 14, 15, 16, 17, 18, 19, 20], dtype='int64'),\n 319: Int64Index([10, 11, 12, 13, 14, 15, 16, 17, 18, 19, 20], dtype='int64'),\n 320: Int64Index([10, 11, 12, 13, 14, 15, 16, 17, 18, 19, 20], dtype='int64'),\n 321: Int64Index([10, 11, 12, 13, 14, 15, 16, 17, 18, 19, 20], dtype='int64'),\n 322: Int64Index([10, 11, 12, 13, 14, 15, 16, 17, 18, 19, 20], dtype='int64'),\n 323: Int64Index([10, 11, 12, 13, 14, 15, 16, 17, 18, 19, 20], dtype='int64'),\n 324: Int64Index([10, 11, 12, 13, 14, 15, 16, 17, 18, 19, 20], dtype='int64'),\n 325: Int64Index([10, 11, 12, 13, 14, 15, 16, 17, 18, 19, 20], dtype='int64'),\n 326: Int64Index([10, 11, 12, 13, 14, 15, 16, 17, 18, 19, 20], dtype='int64'),\n 327: Int64Index([10, 11, 12, 13, 14, 15, 16, 17, 18, 19, 20], dtype='int64'),\n 328: Int64Index([10, 11, 12, 13, 14, 15, 16, 17, 18, 19, 20], dtype='int64'),\n 329: Int64Index([10, 11, 12, 13, 14, 15, 16, 17, 18, 19, 20], dtype='int64'),\n 330: 'No match',\n 331: 'No match',\n 332: 'No match',\n 333: 'No match',\n 334: 'No match',\n 335: 'No match',\n 336: 'No match',\n 337: 'No match',\n 338: 'No match',\n 339: 'No match',\n 340: 'No match',\n 341: 'No match',\n 342: 'No match',\n 343: 'No match',\n 344: 'No match',\n 345: 'No match',\n 346: Int64Index([7, 8, 9], dtype='int64'),\n 347: Int64Index([7, 8, 9], dtype='int64'),\n 348: Int64Index([7, 8, 9], dtype='int64'),\n 349: Int64Index([7, 8, 9], dtype='int64'),\n 350: 'No match',\n 351: 'No match',\n 352: 'No match',\n 353: 'No match',\n 354: 'No match',\n 355: Int64Index([3, 4, 5], dtype='int64'),\n 356: Int64Index([3, 4, 5], dtype='int64'),\n 357: Int64Index([3, 4, 5], dtype='int64'),\n 358: Int64Index([3, 4, 5], dtype='int64'),\n 359: Int64Index([3, 4, 5], dtype='int64'),\n 360: Int64Index([3, 4, 5], dtype='int64'),\n 361: Int64Index([3, 4, 5], dtype='int64'),\n 362: Int64Index([3, 4, 5], dtype='int64'),\n 363: 'No match',\n 364: 'No match',\n 365: 'No match',\n 366: Int64Index([2], dtype='int64')}"
     },
     "metadata": {},
     "output_type": "execute_result",
     "execution_count": 12
    }
   ],
   "source": [
    "wys_to_sat"
   ],
   "metadata": {
    "collapsed": false,
    "pycharm": {
     "name": "#%%\n",
     "is_executing": false
    }
   }
  },
  {
   "cell_type": "code",
   "execution_count": 18,
   "outputs": [],
   "source": [
    "pd.set_option('display.max_rows', None)"
   ],
   "metadata": {
    "collapsed": false,
    "pycharm": {
     "name": "#%%\n",
     "is_executing": false
    }
   }
  },
  {
   "cell_type": "code",
   "execution_count": 19,
   "outputs": [
    {
     "data": {
      "text/plain": "{0: 'No match',\n 1: 'No match',\n 2: 'No match',\n 3: 'No match',\n 4: 'No match',\n 5: 'No match',\n 6: 'No match',\n 7: 'No match',\n 8: 'No match',\n 9: 'No match',\n 10: 'No match',\n 11: 'No match',\n 12: 'No match',\n 13: 'No match',\n 14: 'No match',\n 15: 'No match',\n 16: 'No match',\n 17: 'No match',\n 18: Int64Index([72, 73, 74, 75, 76, 77], dtype='int64'),\n 19: Int64Index([72, 73, 74, 75, 76, 77], dtype='int64'),\n 20: Int64Index([72, 73, 74, 75, 76, 77], dtype='int64'),\n 21: Int64Index([72, 73, 74, 75, 76, 77], dtype='int64'),\n 22: Int64Index([72, 73, 74, 75, 76, 77], dtype='int64'),\n 23: Int64Index([72, 73, 74, 75, 76, 77], dtype='int64'),\n 24: Int64Index([72, 73, 74, 75, 76, 77], dtype='int64'),\n 25: Int64Index([72, 73, 74, 75, 76, 77], dtype='int64'),\n 26: Int64Index([72, 73, 74, 75, 76, 77], dtype='int64'),\n 27: Int64Index([72, 73, 74, 75, 76, 77], dtype='int64'),\n 28: Int64Index([72, 73, 74, 75, 76, 77], dtype='int64'),\n 29: 'No match',\n 30: 'No match',\n 31: 'No match',\n 32: 'No match',\n 33: 'No match',\n 34: 'No match',\n 35: 'No match',\n 36: 'No match',\n 37: 'No match',\n 38: 'No match',\n 39: Int64Index([42, 43, 44, 80, 81], dtype='int64'),\n 40: Int64Index([42, 43, 44, 80, 81], dtype='int64'),\n 41: Int64Index([42, 43, 44, 80, 81], dtype='int64'),\n 42: Int64Index([42, 43, 44, 80, 81], dtype='int64'),\n 43: Int64Index([42, 43, 44, 80, 81], dtype='int64'),\n 44: Int64Index([42, 43, 44, 80, 81], dtype='int64'),\n 45: Int64Index([82], dtype='int64'),\n 46: Int64Index([82], dtype='int64'),\n 47: Int64Index([82], dtype='int64'),\n 48: Int64Index([82], dtype='int64'),\n 49: Int64Index([82], dtype='int64'),\n 50: Int64Index([82], dtype='int64'),\n 51: Int64Index([82], dtype='int64'),\n 52: Int64Index([82], dtype='int64'),\n 53: Int64Index([82], dtype='int64'),\n 54: Int64Index([82], dtype='int64'),\n 55: Int64Index([82], dtype='int64'),\n 56: Int64Index([82], dtype='int64'),\n 57: Int64Index([82], dtype='int64'),\n 58: Int64Index([82], dtype='int64'),\n 59: Int64Index([82], dtype='int64'),\n 60: Int64Index([82], dtype='int64'),\n 61: Int64Index([82], dtype='int64'),\n 62: Int64Index([82], dtype='int64'),\n 63: Int64Index([82], dtype='int64'),\n 64: Int64Index([82], dtype='int64'),\n 65: Int64Index([82], dtype='int64'),\n 66: Int64Index([82], dtype='int64'),\n 67: Int64Index([82], dtype='int64'),\n 68: Int64Index([82], dtype='int64'),\n 69: Int64Index([82], dtype='int64'),\n 70: Int64Index([82], dtype='int64'),\n 71: Int64Index([82], dtype='int64'),\n 72: Int64Index([82], dtype='int64'),\n 73: Int64Index([83, 84, 85, 86, 87, 88, 89, 90, 91, 92], dtype='int64'),\n 74: Int64Index([83, 84, 85, 86, 87, 88, 89, 90, 91, 92], dtype='int64'),\n 75: Int64Index([83, 84, 85, 86, 87, 88, 89, 90, 91, 92], dtype='int64'),\n 76: Int64Index([83, 84, 85, 86, 87, 88, 89, 90, 91, 92], dtype='int64'),\n 77: Int64Index([83, 84, 85, 86, 87, 88, 89, 90, 91, 92], dtype='int64'),\n 78: Int64Index([83, 84, 85, 86, 87, 88, 89, 90, 91, 92], dtype='int64'),\n 79: Int64Index([83, 84, 85, 86, 87, 88, 89, 90, 91, 92], dtype='int64'),\n 80: Int64Index([83, 84, 85, 86, 87, 88, 89, 90, 91, 92], dtype='int64'),\n 81: Int64Index([83, 84, 85, 86, 87, 88, 89, 90, 91, 92], dtype='int64'),\n 82: Int64Index([83, 84, 85, 86, 87, 88, 89, 90, 91, 92], dtype='int64'),\n 83: Int64Index([83, 84, 85, 86, 87, 88, 89, 90, 91, 92], dtype='int64'),\n 84: Int64Index([83, 84, 85, 86, 87, 88, 89, 90, 91, 92], dtype='int64'),\n 85: Int64Index([83, 84, 85, 86, 87, 88, 89, 90, 91, 92], dtype='int64'),\n 86: Int64Index([83, 84, 85, 86, 87, 88, 89, 90, 91, 92], dtype='int64'),\n 87: Int64Index([83, 84, 85, 86, 87, 88, 89, 90, 91, 92], dtype='int64'),\n 88: 'No match',\n 89: 'No match',\n 90: 'No match',\n 91: 'No match',\n 92: 'No match',\n 93: 'No match',\n 94: 'No match',\n 95: Int64Index([96, 97], dtype='int64'),\n 96: Int64Index([96, 97], dtype='int64'),\n 97: Int64Index([96, 97], dtype='int64'),\n 98: Int64Index([96, 97], dtype='int64'),\n 99: Int64Index([96, 97], dtype='int64'),\n 100: Int64Index([96, 97], dtype='int64'),\n 101: Int64Index([96, 97], dtype='int64'),\n 102: Int64Index([96, 97], dtype='int64'),\n 103: Int64Index([96, 97], dtype='int64'),\n 104: Int64Index([96, 97], dtype='int64'),\n 105: Int64Index([96, 97], dtype='int64'),\n 106: Int64Index([96, 97], dtype='int64'),\n 107: Int64Index([96, 97], dtype='int64'),\n 108: 'No match',\n 109: 'No match',\n 110: 'No match',\n 111: 'No match',\n 112: 'No match',\n 113: 'No match',\n 114: 'No match',\n 115: Int64Index([94], dtype='int64'),\n 116: Int64Index([94], dtype='int64'),\n 117: Int64Index([94], dtype='int64'),\n 118: Int64Index([94], dtype='int64'),\n 119: Int64Index([94], dtype='int64'),\n 120: Int64Index([94], dtype='int64'),\n 121: 'No match',\n 122: 'No match',\n 123: 'No match',\n 124: 'No match',\n 125: 'No match',\n 126: 'No match',\n 127: 'No match',\n 128: 'No match',\n 129: 'No match',\n 130: 'No match',\n 131: 'No match',\n 132: Int64Index([46, 98], dtype='int64'),\n 133: Int64Index([46, 98], dtype='int64'),\n 134: Int64Index([46, 98], dtype='int64'),\n 135: Int64Index([46, 98], dtype='int64'),\n 136: Int64Index([46, 98], dtype='int64'),\n 137: Int64Index([46, 98], dtype='int64'),\n 138: Int64Index([46, 98], dtype='int64'),\n 139: Int64Index([46, 98], dtype='int64'),\n 140: Int64Index([46, 98], dtype='int64'),\n 141: Int64Index([46, 98], dtype='int64'),\n 142: Int64Index([46, 98], dtype='int64'),\n 143: Int64Index([46, 98], dtype='int64'),\n 144: Int64Index([46, 98], dtype='int64'),\n 145: Int64Index([46, 98], dtype='int64'),\n 146: Int64Index([46, 98], dtype='int64'),\n 147: Int64Index([46, 98], dtype='int64'),\n 148: 'No match',\n 149: 'No match',\n 150: 'No match',\n 151: 'No match',\n 152: 'No match',\n 153: 'No match',\n 154: 'No match',\n 155: 'No match',\n 156: 'No match',\n 157: 'No match',\n 158: 'No match',\n 159: Int64Index([51, 52, 53], dtype='int64'),\n 160: Int64Index([51, 52, 53], dtype='int64'),\n 161: Int64Index([51, 52, 53], dtype='int64'),\n 162: Int64Index([51, 52, 53], dtype='int64'),\n 163: Int64Index([51, 52, 53], dtype='int64'),\n 164: Int64Index([51, 52, 53], dtype='int64'),\n 165: Int64Index([51, 52, 53], dtype='int64'),\n 166: Int64Index([51, 52, 53], dtype='int64'),\n 167: Int64Index([51, 52, 53], dtype='int64'),\n 168: Int64Index([51, 52, 53], dtype='int64'),\n 169: Int64Index([51, 52, 53], dtype='int64'),\n 170: Int64Index([51, 52, 53], dtype='int64'),\n 171: Int64Index([51, 52, 53], dtype='int64'),\n 172: Int64Index([51, 52, 53], dtype='int64'),\n 173: Int64Index([51, 52, 53], dtype='int64'),\n 174: Int64Index([51, 52, 53], dtype='int64'),\n 175: Int64Index([51, 52, 53], dtype='int64'),\n 176: Int64Index([51, 52, 53], dtype='int64'),\n 177: Int64Index([51, 52, 53], dtype='int64'),\n 178: Int64Index([51, 52, 53], dtype='int64'),\n 179: Int64Index([51, 52, 53], dtype='int64'),\n 180: Int64Index([51, 52, 53], dtype='int64'),\n 181: Int64Index([51, 52, 53], dtype='int64'),\n 182: 'No match',\n 183: 'No match',\n 184: 'No match',\n 185: 'No match',\n 186: 'No match',\n 187: 'No match',\n 188: 'No match',\n 189: 'No match',\n 190: 'No match',\n 191: 'No match',\n 192: 'No match',\n 193: 'No match',\n 194: 'No match',\n 195: 'No match',\n 196: 'No match',\n 197: Int64Index([47], dtype='int64'),\n 198: Int64Index([47], dtype='int64'),\n 199: Int64Index([47], dtype='int64'),\n 200: Int64Index([47], dtype='int64'),\n 201: Int64Index([47], dtype='int64'),\n 202: Int64Index([47], dtype='int64'),\n 203: Int64Index([47], dtype='int64'),\n 204: Int64Index([47], dtype='int64'),\n 205: Int64Index([47], dtype='int64'),\n 206: Int64Index([47], dtype='int64'),\n 207: 'No match',\n 208: Int64Index([57], dtype='int64'),\n 209: Int64Index([57], dtype='int64'),\n 210: 'No match',\n 211: 'No match',\n 212: 'No match',\n 213: 'No match',\n 214: 'No match',\n 215: 'No match',\n 216: 'No match',\n 217: 'No match',\n 218: 'No match',\n 219: 'No match',\n 220: 'No match',\n 221: 'No match',\n 222: 'No match',\n 223: 'No match',\n 224: 'No match',\n 225: 'No match',\n 226: 'No match',\n 227: 'No match',\n 228: 'No match',\n 229: 'No match',\n 230: 'No match',\n 231: 'No match',\n 232: 'No match',\n 233: 'No match',\n 234: 'No match',\n 235: 'No match',\n 236: 'No match',\n 237: 'No match',\n 238: Int64Index([0, 1], dtype='int64'),\n 239: Int64Index([0, 1], dtype='int64'),\n 240: Int64Index([0, 1], dtype='int64'),\n 241: Int64Index([0, 1], dtype='int64'),\n 242: Int64Index([0, 1], dtype='int64'),\n 243: Int64Index([0, 1], dtype='int64'),\n 244: Int64Index([0, 1], dtype='int64'),\n 245: Int64Index([0, 1], dtype='int64'),\n 246: Int64Index([0, 1], dtype='int64'),\n 247: Int64Index([0, 1], dtype='int64'),\n 248: Int64Index([0, 1], dtype='int64'),\n 249: Int64Index([0, 1], dtype='int64'),\n 250: Int64Index([0, 1], dtype='int64'),\n 251: Int64Index([0, 1], dtype='int64'),\n 252: Int64Index([0, 1], dtype='int64'),\n 253: Int64Index([0, 1], dtype='int64'),\n 254: Int64Index([0, 1, 59], dtype='int64'),\n 255: Int64Index([59], dtype='int64'),\n 256: 'No match',\n 257: 'No match',\n 258: 'No match',\n 259: 'No match',\n 260: 'No match',\n 261: 'No match',\n 262: Int64Index([30], dtype='int64'),\n 263: Int64Index([30], dtype='int64'),\n 264: Int64Index([24, 25, 26, 27, 28, 29, 30], dtype='int64'),\n 265: Int64Index([24, 25, 26, 27, 28, 29, 30], dtype='int64'),\n 266: Int64Index([24, 25, 26, 27, 28, 29, 30], dtype='int64'),\n 267: Int64Index([24, 25, 26, 27, 28, 29, 30], dtype='int64'),\n 268: Int64Index([24, 25, 26, 27, 28, 29, 30], dtype='int64'),\n 269: Int64Index([24, 25, 26, 27, 28, 29, 30], dtype='int64'),\n 270: Int64Index([24, 25, 26, 27, 28, 29, 30], dtype='int64'),\n 271: Int64Index([24, 25, 26, 27, 28, 29, 30], dtype='int64'),\n 272: Int64Index([24, 25, 26, 27, 28, 29, 30], dtype='int64'),\n 273: Int64Index([24, 25, 26, 27, 28, 29, 30], dtype='int64'),\n 274: Int64Index([24, 25, 26, 27, 28, 29, 30], dtype='int64'),\n 275: Int64Index([24, 25, 26, 27, 28, 29, 30], dtype='int64'),\n 276: Int64Index([24, 25, 26, 27, 28, 29, 30], dtype='int64'),\n 277: Int64Index([24, 25, 26, 27, 28, 29, 30], dtype='int64'),\n 278: Int64Index([24, 25, 26, 27, 28, 29, 30], dtype='int64'),\n 279: Int64Index([24, 25, 26, 27, 28, 29, 30], dtype='int64'),\n 280: Int64Index([22, 23, 24, 25, 26, 27, 28, 29], dtype='int64'),\n 281: Int64Index([22, 23], dtype='int64'),\n 282: Int64Index([22, 23], dtype='int64'),\n 283: Int64Index([22, 23], dtype='int64'),\n 284: Int64Index([22, 23], dtype='int64'),\n 285: Int64Index([22, 23], dtype='int64'),\n 286: Int64Index([22, 23], dtype='int64'),\n 287: Int64Index([22, 23], dtype='int64'),\n 288: Int64Index([22, 23], dtype='int64'),\n 289: Int64Index([22, 23], dtype='int64'),\n 290: Int64Index([22, 23], dtype='int64'),\n 291: Int64Index([22, 23], dtype='int64'),\n 292: 'No match',\n 293: 'No match',\n 294: 'No match',\n 295: 'No match',\n 296: 'No match',\n 297: 'No match',\n 298: 'No match',\n 299: 'No match',\n 300: 'No match',\n 301: 'No match',\n 302: 'No match',\n 303: 'No match',\n 304: 'No match',\n 305: Int64Index([10, 11, 12, 13, 14, 15, 16, 17, 18, 19, 20], dtype='int64'),\n 306: Int64Index([10, 11, 12, 13, 14, 15, 16, 17, 18, 19, 20], dtype='int64'),\n 307: Int64Index([10, 11, 12, 13, 14, 15, 16, 17, 18, 19, 20], dtype='int64'),\n 308: Int64Index([10, 11, 12, 13, 14, 15, 16, 17, 18, 19, 20], dtype='int64'),\n 309: Int64Index([10, 11, 12, 13, 14, 15, 16, 17, 18, 19, 20], dtype='int64'),\n 310: Int64Index([10, 11, 12, 13, 14, 15, 16, 17, 18, 19, 20], dtype='int64'),\n 311: Int64Index([10, 11, 12, 13, 14, 15, 16, 17, 18, 19, 20], dtype='int64'),\n 312: Int64Index([10, 11, 12, 13, 14, 15, 16, 17, 18, 19, 20], dtype='int64'),\n 313: Int64Index([10, 11, 12, 13, 14, 15, 16, 17, 18, 19, 20], dtype='int64'),\n 314: Int64Index([10, 11, 12, 13, 14, 15, 16, 17, 18, 19, 20], dtype='int64'),\n 315: Int64Index([10, 11, 12, 13, 14, 15, 16, 17, 18, 19, 20], dtype='int64'),\n 316: Int64Index([10, 11, 12, 13, 14, 15, 16, 17, 18, 19, 20], dtype='int64'),\n 317: Int64Index([10, 11, 12, 13, 14, 15, 16, 17, 18, 19, 20], dtype='int64'),\n 318: Int64Index([10, 11, 12, 13, 14, 15, 16, 17, 18, 19, 20], dtype='int64'),\n 319: Int64Index([10, 11, 12, 13, 14, 15, 16, 17, 18, 19, 20], dtype='int64'),\n 320: Int64Index([10, 11, 12, 13, 14, 15, 16, 17, 18, 19, 20], dtype='int64'),\n 321: Int64Index([10, 11, 12, 13, 14, 15, 16, 17, 18, 19, 20], dtype='int64'),\n 322: Int64Index([10, 11, 12, 13, 14, 15, 16, 17, 18, 19, 20], dtype='int64'),\n 323: Int64Index([10, 11, 12, 13, 14, 15, 16, 17, 18, 19, 20], dtype='int64'),\n 324: Int64Index([10, 11, 12, 13, 14, 15, 16, 17, 18, 19, 20], dtype='int64'),\n 325: Int64Index([10, 11, 12, 13, 14, 15, 16, 17, 18, 19, 20], dtype='int64'),\n 326: Int64Index([10, 11, 12, 13, 14, 15, 16, 17, 18, 19, 20], dtype='int64'),\n 327: Int64Index([10, 11, 12, 13, 14, 15, 16, 17, 18, 19, 20], dtype='int64'),\n 328: Int64Index([10, 11, 12, 13, 14, 15, 16, 17, 18, 19, 20], dtype='int64'),\n 329: Int64Index([10, 11, 12, 13, 14, 15, 16, 17, 18, 19, 20], dtype='int64'),\n 330: 'No match',\n 331: 'No match',\n 332: 'No match',\n 333: 'No match',\n 334: 'No match',\n 335: 'No match',\n 336: 'No match',\n 337: 'No match',\n 338: 'No match',\n 339: 'No match',\n 340: 'No match',\n 341: 'No match',\n 342: 'No match',\n 343: 'No match',\n 344: 'No match',\n 345: 'No match',\n 346: Int64Index([7, 8, 9], dtype='int64'),\n 347: Int64Index([7, 8, 9], dtype='int64'),\n 348: Int64Index([7, 8, 9], dtype='int64'),\n 349: Int64Index([7, 8, 9], dtype='int64'),\n 350: 'No match',\n 351: 'No match',\n 352: 'No match',\n 353: 'No match',\n 354: 'No match',\n 355: Int64Index([3, 4, 5], dtype='int64'),\n 356: Int64Index([3, 4, 5], dtype='int64'),\n 357: Int64Index([3, 4, 5], dtype='int64'),\n 358: Int64Index([3, 4, 5], dtype='int64'),\n 359: Int64Index([3, 4, 5], dtype='int64'),\n 360: Int64Index([3, 4, 5], dtype='int64'),\n 361: Int64Index([3, 4, 5], dtype='int64'),\n 362: Int64Index([3, 4, 5], dtype='int64'),\n 363: 'No match',\n 364: 'No match',\n 365: 'No match',\n 366: Int64Index([2], dtype='int64')}"
     },
     "metadata": {},
     "output_type": "execute_result",
     "execution_count": 19
    }
   ],
   "source": [
    "wys_to_sat"
   ],
   "metadata": {
    "collapsed": false,
    "pycharm": {
     "name": "#%%\n",
     "is_executing": false
    }
   }
  },
  {
   "cell_type": "code",
   "execution_count": 20,
   "outputs": [
    {
     "name": "stdout",
     "text": [
      "{24: [72, 73], 44: [42], 54: [82], 72: [82], 74: [87], 76: [88], 77: [89], 79: [86], 83: [84], 87: [83, 85], 96: [96], 98: [97], 99: [97], 103: [97], 104: [97], 106: [96], 135: [46, 98], 137: [46, 98], 143: [46, 98], 144: [46], 167: [51], 177: [52], 178: [51], 240: [1], 241: [0], 244: [0], 255: [59], 270: [27], 275: [29], 279: [26], 312: [15], 315: [18], 316: [13], 317: [14], 318: [11], 321: [16], 325: [11], 346: [7], 348: [7], 356: [3], 357: [3]}\n"
     ],
     "output_type": "stream"
    }
   ],
   "source": [
    "print(match_dict) # just check that it has some content"
   ],
   "metadata": {
    "collapsed": false,
    "pycharm": {
     "name": "#%%\n",
     "is_executing": false
    }
   }
  },
  {
   "cell_type": "code",
   "execution_count": 25,
   "metadata": {
    "pycharm": {
     "is_executing": false,
     "name": "#%% Print intersecting polygons/matches\n"
    }
   },
   "outputs": [
    {
     "traceback": [
      "\u001b[1;31m---------------------------------------------------------------------------\u001b[0m",
      "\u001b[1;31mKeyError\u001b[0m                                  Traceback (most recent call last)",
      "\u001b[1;32m<ipython-input-25-d2b79a3d7700>\u001b[0m in \u001b[0;36m<module>\u001b[1;34m\u001b[0m\n\u001b[1;32m----> 1\u001b[1;33m \u001b[0mprint\u001b[0m\u001b[1;33m(\u001b[0m\u001b[0mstr\u001b[0m\u001b[1;33m(\u001b[0m\u001b[0mmatch_dict\u001b[0m\u001b[1;33m[\u001b[0m\u001b[1;36m55\u001b[0m\u001b[1;33m]\u001b[0m\u001b[1;33m)\u001b[0m\u001b[1;33m)\u001b[0m\u001b[1;33m\u001b[0m\u001b[1;33m\u001b[0m\u001b[0m\n\u001b[0m\u001b[0;32m      2\u001b[0m \u001b[1;32mfor\u001b[0m \u001b[0mk\u001b[0m \u001b[1;32min\u001b[0m \u001b[0mmatch_dict\u001b[0m\u001b[1;33m.\u001b[0m\u001b[0mkeys\u001b[0m\u001b[1;33m(\u001b[0m\u001b[1;33m)\u001b[0m\u001b[1;33m:\u001b[0m\u001b[1;33m\u001b[0m\u001b[1;33m\u001b[0m\u001b[0m\n\u001b[0;32m      3\u001b[0m     \u001b[0mprint\u001b[0m\u001b[1;33m(\u001b[0m\u001b[0mk\u001b[0m\u001b[1;33m,\u001b[0m \u001b[0mwys_gdf\u001b[0m\u001b[1;33m[\u001b[0m\u001b[1;34m'd'\u001b[0m\u001b[1;33m]\u001b[0m\u001b[1;33m.\u001b[0m\u001b[0miloc\u001b[0m\u001b[1;33m[\u001b[0m\u001b[0mk\u001b[0m\u001b[1;33m]\u001b[0m\u001b[1;33m,\u001b[0m \u001b[0mmatch_dict\u001b[0m\u001b[1;33m[\u001b[0m\u001b[0mk\u001b[0m\u001b[1;33m]\u001b[0m\u001b[1;33m)\u001b[0m\u001b[1;33m\u001b[0m\u001b[1;33m\u001b[0m\u001b[0m\n\u001b[0;32m      4\u001b[0m     \u001b[0max\u001b[0m \u001b[1;33m=\u001b[0m \u001b[0mwys_gdf\u001b[0m\u001b[1;33m.\u001b[0m\u001b[0miloc\u001b[0m\u001b[1;33m[\u001b[0m\u001b[1;33m[\u001b[0m\u001b[0mk\u001b[0m\u001b[1;33m]\u001b[0m\u001b[1;33m]\u001b[0m\u001b[1;33m.\u001b[0m\u001b[0mplot\u001b[0m\u001b[1;33m(\u001b[0m\u001b[1;33m)\u001b[0m\u001b[1;33m\u001b[0m\u001b[1;33m\u001b[0m\u001b[0m\n\u001b[0;32m      5\u001b[0m     \u001b[0msat_gdf\u001b[0m\u001b[1;33m.\u001b[0m\u001b[0miloc\u001b[0m\u001b[1;33m[\u001b[0m\u001b[0mmatch_dict\u001b[0m\u001b[1;33m[\u001b[0m\u001b[0mk\u001b[0m\u001b[1;33m]\u001b[0m\u001b[1;33m]\u001b[0m\u001b[1;33m.\u001b[0m\u001b[0mplot\u001b[0m\u001b[1;33m(\u001b[0m\u001b[0max\u001b[0m\u001b[1;33m=\u001b[0m\u001b[0max\u001b[0m\u001b[1;33m,\u001b[0m \u001b[0mcolor\u001b[0m\u001b[1;33m=\u001b[0m\u001b[1;34m'r'\u001b[0m\u001b[1;33m)\u001b[0m\u001b[1;33m\u001b[0m\u001b[1;33m\u001b[0m\u001b[0m\n",
      "\u001b[1;31mKeyError\u001b[0m: 55"
     ],
     "ename": "KeyError",
     "evalue": "55",
     "output_type": "error"
    }
   ],
   "source": [
    "#print(str(match_dict[55]))\n",
    "for k in match_dict.keys():\n",
    "    print(k, wys_gdf['d'].iloc[k], match_dict[k])\n",
    "    ax = wys_gdf.iloc[[k]].plot()\n",
    "    sat_gdf.iloc[match_dict[k]].plot(ax=ax, color='r')\n",
    "    plt.gcf().savefig('match_wys{0}_satman{1}.png'.format(k, str(match_dict[k])))"
   ]
  },
  {
   "cell_type": "code",
   "execution_count": null,
   "outputs": [],
   "source": [
    "# Result"
   ],
   "metadata": {
    "collapsed": false,
    "pycharm": {
     "name": "#%%%%%%%%%%%%%%%%%%%%%%%%%%%%%%%%%%%%%%%%%%%%%%%%%%%%%%%%%%%%%\n"
    }
   }
  },
  {
   "cell_type": "code",
   "execution_count": 40,
   "outputs": [],
   "source": [
    "#wys[\"poly_match_man\"] = 'No'\n",
    "\n",
    "# wrong time-interval\n",
    "#wys.at[(54, 55, 72, 74, 76, 77, 79, 83, 87, 195, 255, 258, 312, 315, 316, 317, 318, 336),'poly_match']='Match'"
   ],
   "metadata": {
    "collapsed": false,
    "pycharm": {
     "name": "#%% Register the matches\n",
     "is_executing": false
    }
   }
  },
  {
   "cell_type": "code",
   "execution_count": 24,
   "outputs": [],
   "source": [
    "#wys_satman = gpd.GeoDataFrame(wys, geometry='geometry')\n",
    "#wys_satman.to_file('wys_satman.shp')"
   ],
   "metadata": {
    "collapsed": false,
    "pycharm": {
     "name": "#%% Save as shapefile\n",
     "is_executing": false
    }
   }
  }
 ],
 "metadata": {
  "kernelspec": {
   "display_name": "Python 3",
   "language": "python",
   "name": "python3"
  },
  "language_info": {
   "codemirror_mode": {
    "name": "ipython",
    "version": 3
   },
   "file_extension": ".py",
   "mimetype": "text/x-python",
   "name": "python",
   "nbconvert_exporter": "python",
   "pygments_lexer": "ipython3",
   "version": "3.8.2"
  },
  "pycharm": {
   "stem_cell": {
    "cell_type": "raw",
    "source": [],
    "metadata": {
     "collapsed": false
    }
   }
  }
 },
 "nbformat": 4,
 "nbformat_minor": 1
}