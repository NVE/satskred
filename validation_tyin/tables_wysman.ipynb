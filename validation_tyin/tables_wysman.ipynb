{
 "cells": [
  {
   "cell_type": "code",
   "execution_count": 1,
   "outputs": [
    {
     "data": {
      "text/plain": "{'AeronavFAA': 'r',\n 'ARCGEN': 'r',\n 'BNA': 'raw',\n 'DXF': 'raw',\n 'CSV': 'raw',\n 'OpenFileGDB': 'r',\n 'ESRI Shapefile': 'raw',\n 'GeoJSON': 'rw',\n 'GPKG': 'rw',\n 'GML': 'raw',\n 'GPX': 'raw',\n 'GPSTrackMaker': 'raw',\n 'Idrisi': 'r',\n 'MapInfo File': 'raw',\n 'DGN': 'raw',\n 'PCIDSK': 'r',\n 'S57': 'r',\n 'SEGY': 'r',\n 'SUA': 'r'}"
     },
     "execution_count": 1,
     "metadata": {},
     "output_type": "execute_result"
    }
   ],
   "source": [
    "import geopandas as gpd\n",
    "import pandas as pd\n",
    "import fiona; fiona.supported_drivers"
   ],
   "metadata": {
    "collapsed": false,
    "pycharm": {
     "name": "#%% Import\n"
    }
   }
  },
  {
   "cell_type": "code",
   "execution_count": 2,
   "outputs": [],
   "source": [
    "# Read shapefiles\n",
    "\n",
    "wysman = gpd.read_file(\"data/wyssen/SHP_columns/wys.shp\")"
   ],
   "metadata": {
    "collapsed": false,
    "pycharm": {
     "name": "#%% WYSSEN\n"
    }
   }
  },
  {
   "cell_type": "code",
   "execution_count": 3,
   "outputs": [
    {
     "name": "stdout",
     "output_type": "stream",
     "text": [
      "Name\n",
      "SymbolID\n",
      "event_mapp\n",
      "date\n",
      "local_obse\n",
      "avalancher\n",
      "avalanch_1\n",
      "path_nr\n",
      "path\n",
      "elevation_\n",
      "elevation1\n",
      "avalanche_\n",
      "moisture_d\n",
      "trigger\n",
      "size\n",
      "fracture_w\n",
      "fracture_d\n",
      "deposition\n",
      "depositi_1\n",
      "uncertaint\n",
      "terminus_e\n",
      "weak_layer\n",
      "avalanche1\n",
      "pic_name_s\n",
      "observer_n\n",
      "regobs\n",
      "Shape_Leng\n",
      "Shape_Area\n",
      "season\n",
      "poly_match\n",
      "geometry\n"
     ]
    }
   ],
   "source": [
    "for col in wysman.columns:\n",
    "   print(col)"
   ],
   "metadata": {
    "collapsed": false,
    "pycharm": {
     "name": "#%% Check olumns\n"
    }
   }
  },
  {
   "cell_type": "code",
   "execution_count": 40,
   "outputs": [
    {
     "name": "stdout",
     "text": [
      "0      No match\n1      No match\n2      No match\n3      No match\n4      No match\n5      No match\n6      No match\n7      No match\n8      No match\n9      No match\n10     No match\n11     No match\n12     No match\n13     No match\n14     No match\n15     No match\n16     No match\n17     No match\n18     No match\n19     No match\n20     No match\n21     No match\n22     No match\n23     No match\n24     No match\n25     No match\n26     No match\n27     No match\n28     No match\n29     No match\n30     No match\n31     No match\n32     No match\n33     No match\n34     No match\n35     No match\n36     No match\n37     No match\n38     No match\n39     No match\n40     No match\n41     No match\n42     No match\n43     No match\n44     No match\n45     No match\n46     No match\n47     No match\n48     No match\n49     No match\n50     No match\n51     No match\n52     No match\n53     No match\n54     No match\n55     No match\n56     No match\n57     No match\n58     No match\n59     No match\n60     No match\n61     No match\n62     No match\n63     No match\n64     No match\n65     No match\n66     No match\n67     No match\n68     No match\n69     No match\n70     No match\n71     No match\n72     No match\n73     No match\n74     No match\n75     No match\n76     No match\n77     No match\n78     No match\n79     No match\n80     No match\n81     No match\n82     No match\n83     No match\n84     No match\n85     No match\n86     No match\n87     No match\n88     No match\n89     No match\n90     No match\n91     No match\n92     No match\n93     No match\n94     No match\n95     No match\n96     No match\n97     No match\n98     No match\n99     No match\n100    No match\n101    No match\n102    No match\n103    No match\n104    No match\n105    No match\n106    No match\n107    No match\n108    No match\n109    No match\n110    No match\n111    No match\n112    No match\n113    No match\n114    No match\n115    No match\n116    No match\n117    No match\n118    No match\n119    No match\n120    No match\n121    No match\n122    No match\n123    No match\n124    No match\n125    No match\n126    No match\n127    No match\n128    No match\n129    No match\n130    No match\n131    No match\n132    No match\n133    No match\n134    No match\n135    No match\n136    No match\n137    No match\n138    No match\n139    No match\n140    No match\n141    No match\n142    No match\n143    No match\n144    No match\n145    No match\n146    No match\n147    No match\n148    No match\n149    No match\n150    No match\n151    No match\n152    No match\n153    No match\n154    No match\n155    No match\n156    No match\n157    No match\n158    No match\n159    No match\n160    No match\n161    No match\n162    No match\n163    No match\n164    No match\n165    No match\n166    No match\n167    No match\n168    No match\n169    No match\n170    No match\n171    No match\n172    No match\n173    No match\n174    No match\n175    No match\n176    No match\n177    No match\n178    No match\n179    No match\n180    No match\n181    No match\n182    No match\n183    No match\n184    No match\n185    No match\n186    No match\n187    No match\n188    No match\n189    No match\n190    No match\n191    No match\n192    No match\n193    No match\n194    No match\n195    No match\n196    No match\n197    No match\n198    No match\n199    No match\n200    No match\n201    No match\n202    No match\n203    No match\n204    No match\n205    No match\n206    No match\n207    No match\n208    No match\n209    No match\n210    No match\n211    No match\n212    No match\n213    No match\n214    No match\n215    No match\n216    No match\n217    No match\n218    No match\n219    No match\n220    No match\n221    No match\n222    No match\n223    No match\n224    No match\n225    No match\n226    No match\n227    No match\n228    No match\n229    No match\n230    No match\n231    No match\n232    No match\n233    No match\n234    No match\n235    No match\n236    No match\n237    No match\n238    No match\n239    No match\n240    No match\n241    No match\n242    No match\n243    No match\n244    No match\n245    No match\n246    No match\n247    No match\n248    No match\n249    No match\n250    No match\n251    No match\n252    No match\n253    No match\n254    No match\n255    No match\n256    No match\n257    No match\n258    No match\n259    No match\n260    No match\n261    No match\n262    No match\n263    No match\n264    No match\n265    No match\n266    No match\n267    No match\n268    No match\n269    No match\n270    No match\n271    No match\n272    No match\n273    No match\n274    No match\n275    No match\n276    No match\n277    No match\n278    No match\n279    No match\n280    No match\n281    No match\n282    No match\n283    No match\n284    No match\n285    No match\n286    No match\n287    No match\n288    No match\n289    No match\n290    No match\n291    No match\n292    No match\n293    No match\n294    No match\n295    No match\n296    No match\n297    No match\n298    No match\n299    No match\n300    No match\n301    No match\n302    No match\n303    No match\n304    No match\n305    No match\n306    No match\n307    No match\n308    No match\n309    No match\n310    No match\n311    No match\n312    No match\n313    No match\n314    No match\n315    No match\n316    No match\n317    No match\n318    No match\n319    No match\n320    No match\n321    No match\n322    No match\n323    No match\n324    No match\n325    No match\n326    No match\n327    No match\n328    No match\n329    No match\n330    No match\n331    No match\n332    No match\n333    No match\n334    No match\n335    No match\n336    No match\n337    No match\n338    No match\n339    No match\n340    No match\n341    No match\n342    No match\n343    No match\n344    No match\n345    No match\n346    No match\n347    No match\n348    No match\n349    No match\n350    No match\n351    No match\n352    No match\n353    No match\n354    No match\n355    No match\n356    No match\n357    No match\n358    No match\n359    No match\n360    No match\n361    No match\n362    No match\n363    No match\n364    No match\n365    No match\n366    No match\nName: poly_match, dtype: object\n"
     ],
     "output_type": "stream"
    }
   ],
   "source": [
    "wysman[\"poly_match\"] = 'No match'\n",
    "\n",
    "# Check if all rows equals \"No match'\n",
    "pd.set_option('display.max_rows', None)\n",
    "print(wysman[\"poly_match\"])"
   ],
   "metadata": {
    "collapsed": false,
    "pycharm": {
     "name": "#%% Set all rows to 'No match' (wys.shp includes matches from Wyssen vs. SatAut)\n",
     "is_executing": false
    }
   }
  },
  {
   "cell_type": "code",
   "execution_count": 41,
   "outputs": [
    {
     "name": "stdout",
     "text": [
      "0      No match\n1      No match\n2      No match\n3      No match\n4      No match\n5      No match\n6      No match\n7      No match\n8      No match\n9      No match\n10     No match\n11     No match\n12     No match\n13     No match\n14     No match\n15     No match\n16     No match\n17     No match\n18     No match\n19     No match\n20     No match\n21     No match\n22     No match\n23     No match\n24        Match\n25     No match\n26     No match\n27     No match\n28     No match\n29     No match\n30     No match\n31     No match\n32     No match\n33     No match\n34     No match\n35     No match\n36     No match\n37     No match\n38     No match\n39     No match\n40     No match\n41     No match\n42     No match\n43     No match\n44        Match\n45     No match\n46     No match\n47     No match\n48     No match\n49     No match\n50     No match\n51     No match\n52     No match\n53     No match\n54        Match\n55     No match\n56     No match\n57     No match\n58     No match\n59     No match\n60     No match\n61     No match\n62     No match\n63     No match\n64     No match\n65     No match\n66     No match\n67     No match\n68     No match\n69     No match\n70     No match\n71     No match\n72        Match\n73     No match\n74        Match\n75     No match\n76        Match\n77        Match\n78     No match\n79        Match\n80     No match\n81     No match\n82     No match\n83        Match\n84     No match\n85     No match\n86     No match\n87        Match\n88     No match\n89     No match\n90     No match\n91     No match\n92     No match\n93     No match\n94     No match\n95     No match\n96        Match\n97     No match\n98        Match\n99        Match\n100    No match\n101    No match\n102    No match\n103       Match\n104       Match\n105    No match\n106       Match\n107    No match\n108    No match\n109    No match\n110    No match\n111    No match\n112    No match\n113    No match\n114    No match\n115    No match\n116    No match\n117    No match\n118    No match\n119    No match\n120    No match\n121    No match\n122    No match\n123    No match\n124    No match\n125    No match\n126    No match\n127    No match\n128    No match\n129    No match\n130    No match\n131    No match\n132    No match\n133    No match\n134    No match\n135       Match\n136    No match\n137       Match\n138    No match\n139    No match\n140    No match\n141    No match\n142    No match\n143       Match\n144       Match\n145    No match\n146    No match\n147    No match\n148    No match\n149    No match\n150    No match\n151    No match\n152    No match\n153    No match\n154    No match\n155    No match\n156    No match\n157    No match\n158    No match\n159    No match\n160    No match\n161    No match\n162    No match\n163    No match\n164    No match\n165    No match\n166    No match\n167       Match\n168    No match\n169    No match\n170    No match\n171    No match\n172    No match\n173    No match\n174    No match\n175    No match\n176    No match\n177       Match\n178       Match\n179    No match\n180    No match\n181    No match\n182    No match\n183    No match\n184    No match\n185    No match\n186    No match\n187    No match\n188    No match\n189    No match\n190    No match\n191    No match\n192    No match\n193    No match\n194    No match\n195    No match\n196    No match\n197    No match\n198    No match\n199    No match\n200    No match\n201    No match\n202    No match\n203    No match\n204    No match\n205    No match\n206    No match\n207    No match\n208    No match\n209    No match\n210    No match\n211    No match\n212    No match\n213    No match\n214    No match\n215    No match\n216    No match\n217    No match\n218    No match\n219    No match\n220    No match\n221    No match\n222    No match\n223    No match\n224    No match\n225    No match\n226    No match\n227    No match\n228    No match\n229    No match\n230    No match\n231    No match\n232    No match\n233    No match\n234    No match\n235    No match\n236    No match\n237    No match\n238    No match\n239    No match\n240       Match\n241       Match\n242    No match\n243    No match\n244       Match\n245    No match\n246    No match\n247    No match\n248    No match\n249    No match\n250    No match\n251    No match\n252    No match\n253    No match\n254    No match\n255       Match\n256    No match\n257    No match\n258    No match\n259    No match\n260    No match\n261    No match\n262    No match\n263    No match\n264    No match\n265    No match\n266    No match\n267    No match\n268    No match\n269    No match\n270       Match\n271    No match\n272    No match\n273    No match\n274    No match\n275       Match\n276    No match\n277    No match\n278    No match\n279       Match\n280    No match\n281    No match\n282    No match\n283    No match\n284    No match\n285    No match\n286    No match\n287    No match\n288    No match\n289    No match\n290    No match\n291    No match\n292    No match\n293    No match\n294    No match\n295    No match\n296    No match\n297    No match\n298    No match\n299    No match\n300    No match\n301    No match\n302    No match\n303    No match\n304    No match\n305    No match\n306    No match\n307    No match\n308    No match\n309    No match\n310    No match\n311    No match\n312       Match\n313    No match\n314    No match\n315       Match\n316       Match\n317       Match\n318       Match\n319    No match\n320    No match\n321       Match\n322    No match\n323    No match\n324    No match\n325       Match\n326    No match\n327    No match\n328    No match\n329    No match\n330    No match\n331    No match\n332    No match\n333    No match\n334    No match\n335    No match\n336    No match\n337    No match\n338    No match\n339    No match\n340    No match\n341    No match\n342    No match\n343    No match\n344    No match\n345    No match\n346       Match\n347    No match\n348       Match\n349    No match\n350    No match\n351    No match\n352    No match\n353    No match\n354    No match\n355    No match\n356       Match\n357       Match\n358    No match\n359    No match\n360    No match\n361    No match\n362    No match\n363    No match\n364    No match\n365    No match\n366    No match\nName: poly_match, dtype: object\n"
     ],
     "output_type": "stream"
    }
   ],
   "source": [
    "wysman.at[(24, 44, 54, 72, 74, 76, 77, 79, 83, 87, 96, 98, 99, 103, 104, 106, 135, 137, 143, 144, 167, 177, 178, 240, 241, 244, 255, 270, 275, 279, 312, 315, 316, 317, 318, 321, 325, 346, 348, 356, 357),'poly_match']='Match'\n",
    "\n",
    "# Check if matches were registered\n",
    "pd.set_option('display.max_rows', None)\n",
    "print(wysman[\"poly_match\"])"
   ],
   "metadata": {
    "collapsed": false,
    "pycharm": {
     "name": "#%% Intersecting polygon/result between Wyssen and SatMan\n",
     "is_executing": false
    }
   }
  },
  {
   "cell_type": "code",
   "execution_count": 43,
   "outputs": [],
   "source": [
    "wysman.to_file=(\"./result/match_wysman/wysman.shp\")"
   ],
   "metadata": {
    "collapsed": false,
    "pycharm": {
     "name": "#%% Make shapefile, does not work\n",
     "is_executing": false
    }
   }
  },
  {
   "cell_type": "code",
   "execution_count": 44,
   "outputs": [],
   "source": [
    "wysman.to_excel(\"result/match_wysman/wysman.xlsx\")\n"
   ],
   "metadata": {
    "collapsed": false,
    "pycharm": {
     "name": "#%% Make xlsx-file\n",
     "is_executing": false
    }
   }
  },
  {
   "cell_type": "code",
   "execution_count": null,
   "outputs": [],
   "source": [
    "# Read files\n",
    "satman = gpd.read_file(\"data/satskred/satman_latlon/AvalDet_man_Merge_latlon.shp\")"
   ],
   "metadata": {
    "collapsed": false,
    "pycharm": {
     "name": "#%% SATMAN\n"
    }
   }
  },
  {
   "cell_type": "code",
   "execution_count": 31,
   "outputs": [
    {
     "name": "stdout",
     "text": [
      "Name\nSymbolID\nevent_mapp\ndate\nlocal_obse\navalancher\navalanch_1\npath_nr\npath\nelevation_\nelevation1\navalanche_\nmoisture_d\ntrigger\nsize\nfracture_w\nfracture_d\ndeposition\ndepositi_1\nuncertaint\nterminus_e\nweak_layer\navalanche1\npic_name_s\nobserver_n\nregobs\nShape_Leng\nShape_Area\nseason\npoly_match\ngeometry\n"
     ],
     "output_type": "stream"
    }
   ],
   "source": [
    "for col in wysman.columns:\n",
    "   print(col)\n"
   ],
   "metadata": {
    "collapsed": false,
    "pycharm": {
     "name": "#%% Check olumns\n",
     "is_executing": false
    }
   }
  },
  {
   "cell_type": "code",
   "execution_count": 32,
   "outputs": [
    {
     "name": "stdout",
     "text": [
      "0     No match\n1     No match\n2     No match\n3     No match\n4     No match\n5     No match\n6     No match\n7     No match\n8     No match\n9     No match\n10    No match\n11    No match\n12    No match\n13    No match\n14    No match\n15    No match\n16    No match\n17    No match\n18    No match\n19    No match\n20    No match\n21    No match\n22    No match\n23    No match\n24    No match\n25    No match\n26    No match\n27    No match\n28    No match\n29    No match\n30    No match\n31    No match\n32    No match\n33    No match\n34    No match\n35    No match\n36    No match\n37    No match\n38    No match\n39    No match\n40    No match\n41    No match\n42    No match\n43    No match\n44    No match\n45    No match\n46    No match\n47    No match\n48    No match\n49    No match\n50    No match\n51    No match\n52    No match\n53    No match\n54    No match\n55    No match\n56    No match\n57    No match\n58    No match\n59    No match\n60    No match\n61    No match\n62    No match\n63    No match\n64    No match\n65    No match\n66    No match\n67    No match\n68    No match\n69    No match\n70    No match\n71    No match\n72    No match\n73    No match\n74    No match\n75    No match\n76    No match\n77    No match\n78    No match\n79    No match\n80    No match\n81    No match\n82    No match\n83    No match\n84    No match\n85    No match\n86    No match\n87    No match\n88    No match\n89    No match\n90    No match\n91    No match\n92    No match\n93    No match\n94    No match\n95    No match\n96    No match\n97    No match\n98    No match\nName: poly_match, dtype: object\n"
     ],
     "output_type": "stream"
    }
   ],
   "source": [
    "satman[\"poly_match\"] = 'No match'\n",
    "\n",
    "# Check if all rows equals \"No match'\n",
    "pd.set_option('display.max_rows', None)\n",
    "print(satman[\"poly_match\"])"
   ],
   "metadata": {
    "collapsed": false,
    "pycharm": {
     "name": "#%% Set all rows to 'No match' (wys.shp includes matches from Wyssen vs. SatAut)\n",
     "is_executing": false
    }
   }
  },
  {
   "cell_type": "code",
   "execution_count": 33,
   "outputs": [
    {
     "name": "stdout",
     "text": [
      "0        Match\n1        Match\n2     No match\n3        Match\n4     No match\n5     No match\n6     No match\n7        Match\n8     No match\n9     No match\n10    No match\n11       Match\n12    No match\n13       Match\n14       Match\n15       Match\n16       Match\n17    No match\n18       Match\n19    No match\n20    No match\n21    No match\n22    No match\n23    No match\n24    No match\n25    No match\n26       Match\n27       Match\n28    No match\n29       Match\n30    No match\n31    No match\n32    No match\n33    No match\n34    No match\n35    No match\n36    No match\n37    No match\n38    No match\n39    No match\n40    No match\n41    No match\n42       Match\n43    No match\n44    No match\n45    No match\n46       Match\n47    No match\n48    No match\n49    No match\n50    No match\n51       Match\n52       Match\n53    No match\n54    No match\n55    No match\n56    No match\n57    No match\n58    No match\n59       Match\n60    No match\n61    No match\n62    No match\n63    No match\n64    No match\n65    No match\n66    No match\n67    No match\n68    No match\n69    No match\n70    No match\n71    No match\n72       Match\n73       Match\n74    No match\n75    No match\n76    No match\n77    No match\n78    No match\n79    No match\n80    No match\n81    No match\n82       Match\n83       Match\n84       Match\n85       Match\n86       Match\n87       Match\n88       Match\n89       Match\n90    No match\n91    No match\n92    No match\n93    No match\n94    No match\n95    No match\n96       Match\n97       Match\n98       Match\nName: poly_match, dtype: object\n"
     ],
     "output_type": "stream"
    }
   ],
   "source": [
    "satman.at[(72, 73, 42, 82, 83, 84, 85, 86, 87, 88, 89, 96, 97, 46, 98, 51, 52, 0, 1, 59, 3, 7, 11, 13, 14, 15, 16, 18, 26, 27, 29),'poly_match']='Match'\n",
    "\n",
    "# Check if matches were registered\n",
    "pd.set_option('display.max_rows', None)\n",
    "print(satman[\"poly_match\"])"
   ],
   "metadata": {
    "collapsed": false,
    "pycharm": {
     "name": "#%% Intersecting polygon/result between Wyssen and SatMan\n",
     "is_executing": false
    }
   }
  },
  {
   "cell_type": "code",
   "execution_count": 35,
   "outputs": [],
   "source": [
    "satman.to_file=(\"result/match_satman/satman.shp\")\n"
   ],
   "metadata": {
    "collapsed": false,
    "pycharm": {
     "name": "#%% Make shapefile, does not work\n",
     "is_executing": false
    }
   }
  },
  {
   "cell_type": "code",
   "execution_count": 45,
   "outputs": [],
   "source": [
    "satman.to_excel(\"result/match_satman/satman.xlsx\")"
   ],
   "metadata": {
    "collapsed": false,
    "pycharm": {
     "name": "#%% Make xlsx-file\n",
     "is_executing": false
    }
   }
  }
 ],
 "metadata": {
  "language_info": {
   "codemirror_mode": {
    "name": "ipython",
    "version": 2
   },
   "file_extension": ".py",
   "mimetype": "text/x-python",
   "name": "python",
   "nbconvert_exporter": "python",
   "pygments_lexer": "ipython2",
   "version": "2.7.6"
  },
  "kernelspec": {
   "name": "python3",
   "language": "python",
   "display_name": "Python 3"
  },
  "pycharm": {
   "stem_cell": {
    "cell_type": "raw",
    "source": [],
    "metadata": {
     "collapsed": false
    }
   }
  }
 },
 "nbformat": 4,
 "nbformat_minor": 0
}