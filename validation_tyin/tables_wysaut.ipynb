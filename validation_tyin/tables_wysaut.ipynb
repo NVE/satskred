{
 "cells": [
  {
   "cell_type": "code",
   "execution_count": 55,
   "metadata": {
    "collapsed": true,
    "pycharm": {
     "name": "#%% Import\n",
     "is_executing": false
    }
   },
   "outputs": [
    {
     "data": {
      "text/plain": "{'AeronavFAA': 'r',\n 'ARCGEN': 'r',\n 'BNA': 'raw',\n 'DXF': 'raw',\n 'CSV': 'raw',\n 'OpenFileGDB': 'r',\n 'ESRI Shapefile': 'raw',\n 'GeoJSON': 'rw',\n 'GPKG': 'rw',\n 'GML': 'raw',\n 'GPX': 'raw',\n 'GPSTrackMaker': 'raw',\n 'Idrisi': 'r',\n 'MapInfo File': 'raw',\n 'DGN': 'raw',\n 'PCIDSK': 'r',\n 'S57': 'r',\n 'SEGY': 'r',\n 'SUA': 'r'}"
     },
     "metadata": {},
     "output_type": "execute_result",
     "execution_count": 55
    }
   ],
   "source": [
    "import geopandas as gpd\n",
    "import pandas as pd\n",
    "import fiona; fiona.supported_drivers"
   ]
  },
  {
   "cell_type": "code",
   "execution_count": 56,
   "outputs": [],
   "source": [
    "wys1617 = gpd.read_file(\"data/wyssen/SHP_clean/wyssen1617.shp\")\n",
    "wys1718 = gpd.read_file(\"data/wyssen/SHP_clean/wyssen1718.shp\")\n",
    "wys1819 = gpd.read_file(\"data/wyssen/SHP_clean/wyssen1819.shp\")"
   ],
   "metadata": {
    "collapsed": false,
    "pycharm": {
     "name": "#%% Read shapefiles\n",
     "is_executing": false
    }
   }
  },
  {
   "cell_type": "code",
   "execution_count": 57,
   "outputs": [],
   "source": [
    "wyssen = pd.concat([wys1617, wys1718, wys1819])"
   ],
   "metadata": {
    "collapsed": false,
    "pycharm": {
     "name": "#%% Concatinate all seasons to one\n",
     "is_executing": false
    }
   }
  },
  {
   "cell_type": "code",
   "execution_count": null,
   "outputs": [],
   "source": [
    "#wyssen.to_excel(\"data/wyssen/wyssen.xlsx\")"
   ],
   "metadata": {
    "collapsed": false,
    "pycharm": {
     "name": "#%% Make excelfile\n"
    }
   }
  },
  {
   "cell_type": "code",
   "execution_count": 58,
   "outputs": [],
   "source": [
    "wyssen = gpd.GeoDataFrame(wyssen)\n",
    "wyssen.to_file('wyssen.shp')"
   ],
   "metadata": {
    "collapsed": false,
    "pycharm": {
     "name": "#%% Make shapefile\n",
     "is_executing": false
    }
   }
  },
  {
   "cell_type": "code",
   "execution_count": 59,
   "outputs": [],
   "source": [
    "wys1617[\"season\"] = '1617'\n",
    "#wys1617[\"date_match\"] = 'No'\n",
    "wys1617[\"poly_match\"] = 'No'\n",
    "wys1617.at[(55, 56, 61, 65, 66, 76, 79, 87, 96, 106),'poly_match']='Match'\n",
    "\n",
    "wys1718[\"season\"] = '1718'\n",
    "#wys1718[\"date_match\"] = 'No'\n",
    "wys1718[\"poly_match\"] = 'No'\n",
    "wys1718.at[(0, 128, 131),'poly_match']='Match'\n",
    "\n",
    "wys1819[\"season\"] = '1819'\n",
    "#wys1819[\"date_match\"] = 'No'\n",
    "wys1819[\"poly_match\"] = 'No'\n",
    "wys1819.at[(0, 1, 5, 10, 15, 58),'poly_match']='Match'"
   ],
   "metadata": {
    "collapsed": false,
    "pycharm": {
     "name": "#%% Add new columns for further analysis\n",
     "is_executing": false
    }
   }
  },
  {
   "cell_type": "code",
   "execution_count": 60,
   "outputs": [],
   "source": [
    "wys1617 = gpd.GeoDataFrame(wys1617)\n",
    "wys1617.to_file(\"data/wyssen/SHP_columns/wys1617.shp\")\n",
    "\n",
    "wys1718 = gpd.GeoDataFrame(wys1718)\n",
    "wys1718.to_file(\"data/wyssen/SHP_columns/wys1718.shp\")\n",
    "\n",
    "wys1819 = gpd.GeoDataFrame(wys1819)\n",
    "wys1819.to_file(\"data/wyssen/SHP_columns/wys1819.shp\")"
   ],
   "metadata": {
    "collapsed": false,
    "pycharm": {
     "name": "#%% Make shapefiles\n",
     "is_executing": false
    }
   }
  },
  {
   "cell_type": "code",
   "execution_count": 61,
   "outputs": [],
   "source": [
    "wys = pd.concat([wys1617, wys1718, wys1819])\n",
    "wys = gpd.GeoDataFrame(wys)\n",
    "wys.to_file(\"data/wyssen/SHP_columns/wys.shp\")"
   ],
   "metadata": {
    "collapsed": false,
    "pycharm": {
     "name": "#%%\n",
     "is_executing": false
    }
   }
  },
  {
   "cell_type": "code",
   "execution_count": 62,
   "outputs": [],
   "source": [
    "# 262, 263, 267, 272, 277, 320\n",
    "# Intersecting avalanches\n",
    "wys_in = pd.DataFrame(wys.iloc[[55, 56, 61, 65, 66, 76, 79, 87, 96, 106, 111, 239, 242, 260, 261, 265, 270, 275, 318],:])\n",
    "wys_in = gpd.GeoDataFrame(wys_in)\n",
    "wys_in.to_file(\"data/wyssen/SHP_intersect/wys_in.shp\")\n"
   ],
   "metadata": {
    "collapsed": false,
    "pycharm": {
     "name": "#%% Result tables, match between wyssen and sataut\n",
     "is_executing": false
    }
   }
  },
  {
   "cell_type": "code",
   "execution_count": 64,
   "outputs": [
    {
     "traceback": [
      "\u001b[1;36m  File \u001b[1;32m\"<ipython-input-64-e48df2180316>\"\u001b[1;36m, line \u001b[1;32m2\u001b[0m\n\u001b[1;33m    print(wys1718[\"size])\u001b[0m\n\u001b[1;37m                         ^\u001b[0m\n\u001b[1;31mSyntaxError\u001b[0m\u001b[1;31m:\u001b[0m EOL while scanning string literal\n"
     ],
     "ename": "SyntaxError",
     "evalue": "EOL while scanning string literal (<ipython-input-64-e48df2180316>, line 2)",
     "output_type": "error"
    }
   ],
   "source": [
    "#pd.set_option('display.max_rows', wys.shape[0]+1)\n",
    "#print(wys)"
   ],
   "metadata": {
    "collapsed": false,
    "pycharm": {
     "name": "#%% Check if match is correct\n",
     "is_executing": false
    }
   }
  },
  {
   "cell_type": "code",
   "execution_count": 63,
   "outputs": [],
   "source": [
    "wys1617_in = pd.DataFrame(wys.iloc[[55, 56, 61, 65, 66, 76, 79, 87, 96, 106],:])\n",
    "wys1617_in = gpd.GeoDataFrame(wys1617_in)\n",
    "wys1617_in.to_file(\"data/wyssen/SHP_intersect/wys1617_in.shp\")\n",
    "\n",
    "wys1718_in = pd.DataFrame(wys.iloc[[111, 239, 242],:])\n",
    "wys1718_in = gpd.GeoDataFrame(wys1718_in)\n",
    "wys1718_in.to_file(\"data/wyssen/SHP_intersect/wys1718_in.shp\")\n",
    "\n",
    "wys1819_in = pd.DataFrame(wys.iloc[[260, 261, 265, 270, 275, 318],:])\n",
    "wys1819_in = gpd.GeoDataFrame(wys1819_in)\n",
    "wys1819_in.to_file(\"data/wyssen/SHP_intersect/wys1819_in.shp\")"
   ],
   "metadata": {
    "collapsed": false,
    "pycharm": {
     "name": "#%% Per season\n",
     "is_executing": false
    }
   }
  },
  {
   "cell_type": "code",
   "execution_count": 53,
   "outputs": [],
   "source": [
    "wys = gpd.read_file(\"data/wyssen/SHP_columns/wys.shp\")\n",
    "wys[\"d\"] = pd.to_datetime(wys[\"avalancher\"])"
   ],
   "metadata": {
    "collapsed": false,
    "pycharm": {
     "name": "#%% When working with time-intervals for satskred data in python, paste:\n",
     "is_executing": false
    }
   }
  }
 ],
 "metadata": {
  "language_info": {
   "codemirror_mode": {
    "name": "ipython",
    "version": 2
   },
   "file_extension": ".py",
   "mimetype": "text/x-python",
   "name": "python",
   "nbconvert_exporter": "python",
   "pygments_lexer": "ipython2",
   "version": "2.7.6"
  },
  "kernelspec": {
   "name": "python3",
   "language": "python",
   "display_name": "Python 3"
  },
  "pycharm": {
   "stem_cell": {
    "cell_type": "raw",
    "source": [],
    "metadata": {
     "collapsed": false
    }
   }
  }
 },
 "nbformat": 4,
 "nbformat_minor": 0
}