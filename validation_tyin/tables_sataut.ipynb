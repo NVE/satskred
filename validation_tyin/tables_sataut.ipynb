{
 "cells": [
  {
   "cell_type": "code",
   "execution_count": 1,
   "outputs": [
    {
     "data": {
      "text/plain": "{'AeronavFAA': 'r',\n 'ARCGEN': 'r',\n 'BNA': 'raw',\n 'DXF': 'raw',\n 'CSV': 'raw',\n 'OpenFileGDB': 'r',\n 'ESRI Shapefile': 'raw',\n 'GeoJSON': 'rw',\n 'GPKG': 'rw',\n 'GML': 'raw',\n 'GPX': 'raw',\n 'GPSTrackMaker': 'raw',\n 'Idrisi': 'r',\n 'MapInfo File': 'raw',\n 'DGN': 'raw',\n 'PCIDSK': 'r',\n 'S57': 'r',\n 'SEGY': 'r',\n 'SUA': 'r'}"
     },
     "metadata": {},
     "output_type": "execute_result",
     "execution_count": 1
    }
   ],
   "source": [
    "import geopandas as gpd\n",
    "import pandas as pd\n",
    "import numpy as np\n",
    "import seaborn as sb\n",
    "import matplotlib.pyplot as plt\n",
    "import fiona; fiona.supported_drivers\n"
   ],
   "metadata": {
    "collapsed": false,
    "pycharm": {
     "name": "#%% Import\n",
     "is_executing": false
    }
   }
  },
  {
   "cell_type": "code",
   "execution_count": 2,
   "outputs": [],
   "source": [
    "sataut1617 = gpd.read_file(\"data/satskred/SHP/AvalDet_1617_aut.shp\")\n",
    "sataut1718 = gpd.read_file(\"data/satskred/SHP/AvalDet_1718_aut.shp\")\n",
    "sataut1819 = gpd.read_file(\"data/satskred/SHP/AvalDet_1819_aut.shp\")"
   ],
   "metadata": {
    "collapsed": false,
    "pycharm": {
     "name": "#%% Read shapefiles\n",
     "is_executing": false
    }
   }
  },
  {
   "cell_type": "code",
   "execution_count": 3,
   "outputs": [],
   "source": [
    "sataut1617.to_excel(\"data/satskred/XLSX/sataut1617.xlsx\")\n",
    "sataut1718.to_excel(\"data/satskred/XLSX/sataut1718.xlsx\")\n",
    "sataut1819.to_excel(\"data/satskred/XLSX/sataut1819.xlsx\")"
   ],
   "metadata": {
    "collapsed": false,
    "pycharm": {
     "name": "#%% Make excel-file\n",
     "is_executing": false
    }
   }
  },
  {
   "cell_type": "code",
   "execution_count": 3,
   "outputs": [
    {
     "name": "stdout",
     "text": [
      "0     No match\n1     No match\n2     No match\n3     No match\n4     No match\n5     No match\n6        Match\n7     No match\n8        Match\n9        Match\n10       Match\n11       Match\n12       Match\n13    No match\n14    No match\n15       Match\n16    No match\n17    No match\n18    No match\n19    No match\n20    No match\n21    No match\n22    No match\n23    No match\nName: poly_match, dtype: object\n"
     ],
     "output_type": "stream"
    }
   ],
   "source": [
    "sataut1617[\"t_0\"] = pd.to_datetime(sataut1617[\"t_0\"])\n",
    "sataut1617[\"t_1\"] = pd.to_datetime(sataut1617[\"t_1\"])\n",
    "sataut1617[\"season\"] = '1617'\n",
    "#sataut1617[\"date_match\"] = 'No match'\n",
    "sataut1617[\"poly_match\"] = 'No match'\n",
    "sataut1617.at[(10, 11, 12, 6, 8, 9, 15),'poly_match']='Match'\n",
    "pd.set_option('display.max_rows', None)\n",
    "print(sataut1617['poly_match'])\n",
    "\n",
    "#sataut1617.at[(6, 9, 12, 11, 8, 11, 12, 11, 10, 15, 15),'poly_match']='Match'"
   ],
   "metadata": {
    "collapsed": false,
    "pycharm": {
     "name": "#%% Add new columns for further analysis\n",
     "is_executing": false
    }
   }
  },
  {
   "cell_type": "code",
   "execution_count": 4,
   "outputs": [
    {
     "name": "stdout",
     "text": [
      "0     No match\n1     No match\n2     No match\n3     No match\n4     No match\n5     No match\n6     No match\n7     No match\n8     No match\n9     No match\n10    No match\n11       Match\n12       Match\n13    No match\n14    No match\n15    No match\n16       Match\n17    No match\n18    No match\n19    No match\n20    No match\n21    No match\n22    No match\n23    No match\n24    No match\nName: poly_match, dtype: object\n"
     ],
     "output_type": "stream"
    }
   ],
   "source": [
    "sataut1718[\"t_0\"] = pd.to_datetime(sataut1718[\"t_0\"])\n",
    "sataut1718[\"t_1\"] = pd.to_datetime(sataut1718[\"t_1\"])\n",
    "sataut1718[\"season\"] = '1718'\n",
    "#sataut1718[\"date_match\"] = 'No match'\n",
    "sataut1718[\"poly_match\"] = 'No match'\n",
    "sataut1718.at[(11, 12, 16),'poly_match']='Match'\n",
    "pd.set_option('display.max_rows', None)\n",
    "print(sataut1718['poly_match'])\n",
    "#sataut1718.at[(15, 9, 11, 12, 11),'poly_match']='Match'"
   ],
   "metadata": {
    "collapsed": false,
    "pycharm": {
     "name": "#%%\n",
     "is_executing": false
    }
   }
  },
  {
   "cell_type": "code",
   "execution_count": 5,
   "outputs": [],
   "source": [
    "sataut1819 = gpd.read_file(\"./data/satskred/SHP/AvalDet_1819_aut.shp\")\n",
    "sataut1819[\"t_0\"] = pd.to_datetime(sataut1819[\"t_0\"])\n",
    "sataut1819[\"t_1\"] = pd.to_datetime(sataut1819[\"t_1\"])\n",
    "sataut1819[\"season\"] = '1819'\n",
    "#sat_aut1819[\"date_match\"] = 'No match'\n",
    "sataut1819[\"poly_match\"] = 'No match'\n",
    "sataut1819.at[(2, 5, 7, 9, 10, 12),'poly_match']='Match'\n",
    "#sataut1819.at[(5, 5, 5, 5, 4, 2, 0, 1, 1, 0, 0, 1, 1, 2),'poly_match']='Match'"
   ],
   "metadata": {
    "collapsed": false,
    "pycharm": {
     "name": "#%%\n",
     "is_executing": false
    }
   }
  },
  {
   "cell_type": "code",
   "execution_count": 6,
   "outputs": [],
   "source": [
    "sataut_match = pd.concat([sataut1617, sataut1718, sataut1819])"
   ],
   "metadata": {
    "collapsed": false,
    "pycharm": {
     "name": "#%%\n",
     "is_executing": false
    }
   }
  },
  {
   "cell_type": "code",
   "execution_count": 15,
   "outputs": [
    {
     "name": "stdout",
     "text": [
      "area\naspect\ndet_count\neast\nlength\nnorth\nraster_val\nrefdate\nsat_geom\nsource\nt_0\nt_1\ntime\ntrack_id\nuuid\nwidth\ndem_mean\ndem_median\ndem_min\ndem_max\nslp_mean\nslp_median\nslp_min\nslp_max\nvv1_mean\nvv1_median\nvv1_min\nvv1_max\nvh1_mean\nvh1_median\nvh1_min\nvh1_max\nvv0_mean\nvv0_median\nvv0_min\nvv0_max\nvh0_mean\nvh0_median\nvh0_min\nvh0_max\ngeometry\nseason\npoly_match\n"
     ],
     "output_type": "stream"
    }
   ],
   "source": [
    "for col in sataut_match.columns:\n",
    "   print(col)"
   ],
   "metadata": {
    "collapsed": false,
    "pycharm": {
     "name": "#%%\n",
     "is_executing": false
    }
   }
  },
  {
   "cell_type": "code",
   "execution_count": 7,
   "outputs": [],
   "source": [
    "# Colors\n",
    "blue = ['C3', 'C0']\n",
    "orange = ['C3', 'C1']\n",
    "green = ['C3', 'C2']\n",
    "red_grey = ['C3', 'lightgrey']"
   ],
   "metadata": {
    "collapsed": false,
    "pycharm": {
     "name": "#%%\n",
     "is_executing": false
    }
   }
  },
  {
   "cell_type": "code",
   "execution_count": 23,
   "outputs": [],
   "source": [
    "a = 'sat_geom'\n",
    "#b = 'path'\n",
    "#hu = 'season'\n",
    "ord = ['37', '44', '110', '117']\n",
    "labels = ['37', '44', '110', '117']\n",
    "#ord = [11, 12, 1, 2, 3, 4, 5]\n",
    "#labels = [11, 12, 1, 2, 3, 4, 5]\n",
    "xlabel = \"Satellite path\"\n",
    "ylabel = \"Count\"\n",
    "range = 7\n",
    "\n",
    "df = sataut1718\n",
    "#pal = paired_p\n",
    "col = orange\n",
    "title = \"Satellite paths 2017/2018\"\n",
    "l_title = \"\"\n",
    "file = \"./figures/wys_sataut_result/sataut1718_satpath_stacked_t_1.png\""
   ],
   "metadata": {
    "collapsed": false,
    "pycharm": {
     "name": "#%% Input to plot\n",
     "is_executing": false
    }
   }
  },
  {
   "cell_type": "code",
   "execution_count": 24,
   "outputs": [],
   "source": [
    "df[\"d\"] = pd.to_datetime(df[\"t_1\"])\n",
    "df[\"year\"] = df['d'].dt.year\n",
    "df[\"month\"] = df['d'].dt.month\n",
    "df[\"day\"] = df['d'].dt.day"
   ],
   "metadata": {
    "collapsed": false,
    "pycharm": {
     "name": "#%% Date and time for plotting daily/monthly/yearly distribution\n",
     "is_executing": false
    }
   }
  },
  {
   "cell_type": "code",
   "execution_count": 25,
   "outputs": [
    {
     "name": "stderr",
     "text": [
      "c:\\AnacondaNVE\\lib\\site-packages\\ipykernel_launcher.py:1: FutureWarning: \nPassing list-likes to .loc or [] with any missing label will raise\nKeyError in the future, you can use .reindex() as an alternative.\n\nSee the documentation here:\nhttps://pandas.pydata.org/pandas-docs/stable/user_guide/indexing.html#deprecate-loc-reindex-listlike\n  \"\"\"Entry point for launching an IPython kernel.\n"
     ],
     "output_type": "stream"
    },
    {
     "data": {
      "text/plain": "<Figure size 432x288 with 1 Axes>",
      "image/png": "[encoded data removed]"
     },
     "metadata": {
      "needs_background": "light"
     },
     "output_type": "display_data"
    }
   ],
   "source": [
    "cp_stack = df.groupby(['poly_match', a]).size().reset_index().pivot(columns='poly_match', index=a, values=0).loc[ord]\n",
    "cp_stack.plot(kind='bar', stacked=True, color=col).set_title(title)\n",
    "plt.xlabel(xlabel)\n",
    "plt.ylabel(ylabel)\n",
    "plt.xticks(np.arange(range), labels)\n",
    "plt.xticks(rotation=45)\n",
    "plt.legend(['Match', 'No match'])\n",
    "plt.xticks(rotation=45)\n",
    "plt.tight_layout()\n",
    "plt.savefig(file)"
   ],
   "metadata": {
    "collapsed": false,
    "pycharm": {
     "name": "#%% Figure\n",
     "is_executing": false
    }
   }
  },
  {
   "cell_type": "code",
   "execution_count": 19,
   "outputs": [],
   "source": [
    "sataut1617.to_excel(\"data/satskred/XLSX_columns/sa1617.xlsx\")\n",
    "sataut1718.to_excel(\"data/satskred/XLSX_columns/sa1718.xlsx\")\n",
    "sataut1819.to_excel(\"data/satskred/XLSX_columns/sa1819.xlsx\")"
   ],
   "metadata": {
    "collapsed": false,
    "pycharm": {
     "name": "#%% Make excel-file\n",
     "is_executing": false
    }
   }
  },
  {
   "cell_type": "code",
   "execution_count": 6,
   "outputs": [],
   "source": [
    "sataut = gpd.read_file(\"./data/satskred/SHP_merge/AvalDet_aut_merge.shp\")\n",
    "sataut[\"t_0\"] = pd.to_datetime(sataut[\"t_0\"])\n",
    "sataut[\"t_1\"] = pd.to_datetime(sataut[\"t_1\"])"
   ],
   "metadata": {
    "collapsed": false,
    "pycharm": {
     "name": "#%% When working with time-intervals for satskred data in python, paste:\n",
     "is_executing": false
    }
   }
  },
  {
   "cell_type": "code",
   "execution_count": 8,
   "outputs": [],
   "source": [
    "sataut1617_in = pd.DataFrame(sataut.iloc[[6, 9, 12, 11, 8, 11, 12, 11, 10, 15, 15],:])\n",
    "sataut1718_in = pd.DataFrame(sataut.iloc[[15, 9, 11, 12, 11],:])\n",
    "sataut1819_in = pd.DataFrame(sataut.iloc[[5, 5, 5, 5, 4, 2, 0, 1, 1, 0, 0, 1, 1, 2],:])"
   ],
   "metadata": {
    "collapsed": false,
    "pycharm": {
     "name": "#%%\n",
     "is_executing": false
    }
   }
  },
  {
   "cell_type": "code",
   "execution_count": 43,
   "outputs": [
    {
     "name": "stdout",
     "text": [
      "0     No match\n1     No match\n2     No match\n3     No match\n4     No match\n5     No match\n6        Match\n7     No match\n8        Match\n9        Match\n10       Match\n11       Match\n12       Match\n13    No match\n14    No match\n15       Match\n16    No match\n17    No match\n18    No match\n19    No match\n20    No match\n21    No match\n22    No match\n23    No match\n0     No match\n1     No match\n2     No match\n3     No match\n4     No match\n5     No match\n6     No match\n7     No match\n8     No match\n9        Match\n10    No match\n11       Match\n12       Match\n13    No match\n14    No match\n15       Match\n16    No match\n17    No match\n18    No match\n19    No match\n20    No match\n21    No match\n22    No match\n23    No match\n24    No match\n0        Match\n1        Match\n2        Match\n3     No match\n4        Match\n5        Match\n6     No match\n7     No match\n8     No match\n9     No match\n10    No match\n11    No match\n12    No match\n13    No match\n14    No match\n15    No match\n16    No match\n17    No match\n18    No match\nName: poly_match, dtype: object\n"
     ],
     "output_type": "stream"
    }
   ],
   "source": [
    "sataut_in = pd.concat([sataut1617_in, sataut1718_in, sataut1819_in])\n",
    "print(sataut['poly_match'])"
   ],
   "metadata": {
    "collapsed": false,
    "pycharm": {
     "name": "#%%\n",
     "is_executing": false
    }
   }
  },
  {
   "cell_type": "code",
   "execution_count": 49,
   "outputs": [
    {
     "name": "stdout",
     "text": [
      "            area aspect  det_count      east       length      north  \\\n0    8179.955693   None          1  8.208209   693.156305  61.241030   \n1    2493.877642   None          1  8.202517   320.765799  61.246145   \n2    4987.762637   None          1  8.201793   496.255925  61.260262   \n3    1596.120756   None          1  8.233580   258.389102  61.221129   \n4    4289.519691   None          1  8.215947   413.574372  61.235898   \n5    6683.657926   None          1  8.214985   610.678921  61.235691   \n6    5885.573909   None          1  8.207976   496.845263  61.240992   \n7    5187.262860   None          1  8.200354   568.095327  61.252639   \n8    2094.877772   None          1  8.216027   279.472885  61.232376   \n9    8279.665412   None          1  8.200156   879.265930  61.255965   \n10  15162.784623   None          1  8.199630  1251.103592  61.258713   \n11   2892.926362   None          1  8.214400   290.002471  61.237193   \n12  11771.080986   None          1  8.199467   961.693036  61.255601   \n13   3790.689905   None          1  8.196466   393.649425  61.267747   \n14   5586.269114   None          1  8.194667   620.066439  61.268792   \n15   4489.096857   None          1  8.234806   599.997359  61.224437   \n16   1695.857779   None          1  8.218396   258.463552  61.232527   \n17   1795.613311   None          1  8.217938   258.471545  61.233880   \n18   2593.644315   None          1  8.199389   331.432442  61.271605   \n19   2394.182004   None          1  8.233276   289.925221  61.227230   \n20   2892.898748   None          1  8.200217   331.342483  61.257244   \n21   1795.638923   None          1  8.235459   268.867018  61.216987   \n22   2394.184439   None          1  8.234776   423.073544  61.219481   \n23   1695.885069   None          1  8.235670   289.110739  61.228108   \n24   2294.420255   None          1  8.234738   248.682322  61.211157   \n25   5087.557670   None          1  8.214757   415.216082  61.235586   \n26   2194.668113   None          1  8.233798   279.410426  61.224606   \n27   1995.150057   None          1  8.234761   238.193814  61.215261   \n28   1995.155430   None          1  8.233773   258.407943  61.224606   \n29   2294.425823   None          1  8.233239   268.924166  61.227342   \n30   2294.388895   None          1  8.214338   269.814165  61.237133   \n31   2593.655941   None          1  8.214273   259.315442  61.238438   \n32   2094.917588   None          1  8.236548   248.735248  61.226845   \n33   3691.036663   None          1  8.235529   650.784203  61.219796   \n34   3291.906993   None          1  8.194214   392.889743  61.268862   \n35   5586.427493   None          1  8.233099   425.587879  61.220156   \n36   4189.821521   None          1  8.233527   517.667094  61.227417   \n37   2593.654740   None          1  8.213038   413.570254  61.234976   \n38   1596.079265   None          1  8.200683   310.262506  61.246094   \n39   1596.084504   None          1  8.200634   227.924757  61.264318   \n40   2294.422515   None          1  8.233020   361.743909  61.220937   \n41   3990.256024   None          1  8.218242   373.175394  61.232254   \n42   2493.943193   None          1  8.233978   331.115021  61.228361   \n43   3890.493116   None          1  8.217430   424.056009  61.233677   \n44  21247.808245   None          1  8.198065   973.074430  61.259490   \n45   5386.821031   None          1  8.213720   630.037545  61.235180   \n46  22843.884004   None          1  8.197918  1055.520485  61.259463   \n47   1795.606407   None          1  8.213564   258.482064  61.235182   \n48  14464.472390   None          1  8.198109   859.117613  61.259435   \n49   4089.958479   None          1  8.198030   527.055065  61.265917   \n50   2194.620620   None          1  8.208352   279.524476  61.240655   \n51   4488.987667   None          1  8.200695   455.002871  61.257300   \n52   7282.132473   None          1  8.199801   683.005348  61.264665   \n53  10274.878362   None          1  8.215205   682.564260  61.235890   \n54   6484.151683   None          1  8.215141   609.888885  61.238064   \n55   1795.592448   None          1  8.201687   227.872196  61.251532   \n56   6982.851894   None          1  8.198664   610.199758  61.259134   \n57   4189.708319   None          1  8.196831   362.121939  61.264776   \n58  13466.921200   None          1  8.198005   910.858513  61.260211   \n59   4987.750232   None          1  8.196476   466.387062  61.267748   \n60   6184.807972   None          1  8.194628   650.800194  61.268807   \n61   2493.874986   None          1  8.197230   310.387032  61.264364   \n62   6982.801882   None          1  8.189551   651.586933  61.269350   \n63   3092.479576   None          1  8.230557   403.812291  61.228879   \n64   2394.124806   None          1  8.200822   259.427435  61.264369   \n65   4688.505393   None          1  8.199478   425.172879  61.271856   \n66   1596.118915   None          1  8.231765   299.585010  61.223910   \n67   3690.926876   None          1  8.195374   434.031728  61.260144   \n\n    raster_val sat_geom                                             source  \\\n0         11.0      117  AvalDet_20190213_171036_ref_20190207_trno_117_...   \n1         12.0      117  AvalDet_20190213_171036_ref_20190207_trno_117_...   \n2         13.0      117  AvalDet_20190213_171036_ref_20190207_trno_117_...   \n3         11.0      117  AvalDet_20190303_170955_ref_20190225_trno_117_...   \n4         15.0      110  AvalDet_20190327_055427_ref_20190321_trno_110_...   \n5         18.0      117  AvalDet_20190327_170956_ref_20190321_trno_117_...   \n6         19.0      117  AvalDet_20190327_170956_ref_20190321_trno_117_...   \n7         21.0      117  AvalDet_20190327_170956_ref_20190321_trno_117_...   \n8         14.0      117  AvalDet_20190402_171037_ref_20190327_trno_117_...   \n9         15.0      117  AvalDet_20190402_171037_ref_20190327_trno_117_...   \n10        16.0      117  AvalDet_20190402_171037_ref_20190327_trno_117_...   \n11        20.0       44  AvalDet_20190403_170138_ref_20190328_trno_044_...   \n12        22.0       44  AvalDet_20190403_170138_ref_20190328_trno_044_...   \n13        11.0      117  AvalDet_20190420_170956_ref_20190414_trno_117_...   \n14        12.0      117  AvalDet_20190420_170956_ref_20190414_trno_117_...   \n15        15.0      117  AvalDet_20190526_170958_ref_20190520_trno_117_...   \n16        17.0      117  AvalDet_20190526_170958_ref_20190520_trno_117_...   \n17        18.0      117  AvalDet_20190526_170958_ref_20190520_trno_117_...   \n18        19.0      117  AvalDet_20190526_170958_ref_20190520_trno_117_...   \n19        17.0       37  AvalDet_20180207_054617_ref_20180201_trno_037_...   \n20        18.0       37  AvalDet_20180207_054617_ref_20180201_trno_037_...   \n21        17.0      117  AvalDet_20180218_171016_ref_20180212_trno_117_...   \n22        11.0       37  AvalDet_20180225_054707_ref_20180219_trno_037_...   \n23        12.0       37  AvalDet_20180225_054707_ref_20180219_trno_037_...   \n24        11.0       37  AvalDet_20180303_054617_ref_20180225_trno_037_...   \n25        14.0       37  AvalDet_20180315_054617_ref_20180309_trno_037_...   \n26        21.0       37  AvalDet_20180327_054617_ref_20180321_trno_037_...   \n27        12.0       37  AvalDet_20180408_054618_ref_20180402_trno_037_...   \n28        16.0       37  AvalDet_20180408_054618_ref_20180402_trno_037_...   \n29        17.0       37  AvalDet_20180408_054618_ref_20180402_trno_037_...   \n30        18.0       37  AvalDet_20180408_054618_ref_20180402_trno_037_...   \n31        19.0       37  AvalDet_20180408_054618_ref_20180402_trno_037_...   \n32        16.0      117  AvalDet_20180413_170950_ref_20180407_trno_117_...   \n33        12.0       37  AvalDet_20180414_054708_ref_20180408_trno_037_...   \n34        38.0      117  AvalDet_20180419_171042_ref_20180413_trno_117_...   \n35        16.0       37  AvalDet_20180420_054618_ref_20180414_trno_037_...   \n36        18.0       37  AvalDet_20180420_054618_ref_20180414_trno_037_...   \n37        29.0      117  AvalDet_20180425_170950_ref_20180419_trno_117_...   \n38        20.0       37  AvalDet_20180502_054619_ref_20180426_trno_037_...   \n39        21.0      117  AvalDet_20180525_171044_ref_20180519_trno_117_...   \n40        15.0       37  AvalDet_20180526_054620_ref_20180520_trno_037_...   \n41        22.0       44  AvalDet_20180526_170134_ref_20180520_trno_044_...   \n42        29.0      117  AvalDet_20180531_170952_ref_20180525_trno_117_...   \n43        33.0      117  AvalDet_20180531_170952_ref_20180525_trno_117_...   \n44        15.0      117  AvalDet_20161231_170935_ref_20161207_trno_117_...   \n45        12.0       44  AvalDet_20170101_170215_ref_20161226_trno_044_...   \n46        13.0       44  AvalDet_20170101_170215_ref_20161226_trno_044_...   \n47        19.0      117  AvalDet_20170112_170933_ref_20161231_trno_117_...   \n48        13.0       44  AvalDet_20170131_170116_ref_20170125_trno_044_...   \n49        15.0       37  AvalDet_20170320_054605_ref_20170314_trno_037_...   \n50        16.0       44  AvalDet_20170320_170127_ref_20170314_trno_044_...   \n51        17.0       44  AvalDet_20170320_170127_ref_20170314_trno_044_...   \n52        18.0       44  AvalDet_20170320_170127_ref_20170314_trno_044_...   \n53        16.0      117  AvalDet_20170325_170943_ref_20170313_trno_117_...   \n54        17.0      117  AvalDet_20170325_170943_ref_20170313_trno_117_...   \n55        18.0      117  AvalDet_20170325_170943_ref_20170313_trno_117_...   \n56        15.0       37  AvalDet_20170401_054605_ref_20170326_trno_037_...   \n57        23.0       44  AvalDet_20170419_170215_ref_20170407_trno_044_...   \n58        11.0       44  AvalDet_20170425_170129_ref_20170419_trno_044_...   \n59        12.0       44  AvalDet_20170507_170129_ref_20170501_trno_044_...   \n60        13.0       44  AvalDet_20170507_170129_ref_20170501_trno_044_...   \n61        17.0      110  AvalDet_20170512_055424_ref_20170506_trno_110_...   \n62        15.0      117  AvalDet_20170512_170945_ref_20170430_trno_117_...   \n63        15.0       37  AvalDet_20170513_054647_ref_20170507_trno_037_...   \n64        27.0      117  AvalDet_20170530_171010_ref_20170524_trno_117_...   \n65        29.0      117  AvalDet_20170530_171010_ref_20170524_trno_117_...   \n66        17.0       44  AvalDet_20170531_170128_ref_20170525_trno_044_...   \n67        16.0      117  AvalDet_20161231_170935_ref_20161207_trno_117_...   \n\n                    t_0  ...    vh0_min    vh0_max Shape_Leng     refdate  \\\n0   2019-02-07 00:00:00  ... -30.350231 -21.991838   0.007552  2019-02-07   \n1   2019-02-07 00:00:00  ... -30.223661 -22.515234   0.003500  2019-02-07   \n2   2019-02-07 00:00:00  ... -26.907249 -18.667583   0.005166  2019-02-07   \n3   2019-02-25 00:00:00  ... -27.476614 -22.781267   0.002763  2019-02-25   \n4   2019-03-21 00:00:00  ... -25.991516 -20.166420   0.004423  2019-03-21   \n5   2019-03-21 00:00:00  ... -30.924671 -23.000465   0.006811  2019-03-21   \n6   2019-03-21 00:00:00  ... -30.308651 -19.525417   0.005523  2019-03-21   \n7   2019-03-21 00:00:00  ... -29.782635 -21.824438   0.005724  2019-03-21   \n8   2019-03-27 00:00:00  ... -26.666491 -17.082569   0.003129  2019-03-27   \n9   2019-03-27 00:00:00  ... -28.653074 -16.536562   0.009402  2019-03-27   \n10  2019-03-27 00:00:00  ... -27.663158 -15.920239   0.013098  2019-03-27   \n11  2019-03-28 00:00:00  ... -27.468403 -22.020576   0.003311  2019-03-28   \n12  2019-03-28 00:00:00  ... -29.480318 -20.906099   0.010143  2019-03-28   \n13  2019-04-14 00:00:00  ... -28.882010 -17.286568   0.004420  2019-04-14   \n14  2019-04-14 00:00:00  ... -28.148775 -18.643305   0.006280  2019-04-14   \n15  2019-05-20 00:00:00  ... -30.243633 -20.137962   0.006627  2019-05-20   \n16  2019-05-20 00:00:00  ... -30.843683 -22.358103   0.002764  2019-05-20   \n17  2019-05-20 00:00:00  ... -32.436874 -24.516401   0.002764  2019-05-20   \n18  2019-05-20 00:00:00  ... -31.285494 -22.736105   0.003684  2019-05-20   \n19  2018-02-01 00:00:00  ... -24.411739 -15.261484   0.003311  2018-02-01   \n20  2018-02-01 00:00:00  ... -20.606544 -11.202130   0.003683  2018-02-01   \n21  2018-02-12 00:00:00  ... -25.000832 -20.239809   0.002945  2018-02-12   \n22  2018-02-19 00:00:00  ... -21.896652 -16.441441   0.004244  2018-02-19   \n23  2018-02-19 00:00:00  ... -21.733105 -15.418738   0.002952  2018-02-19   \n24  2018-02-25 00:00:00  ... -21.299223 -12.276563   0.002940  2018-02-25   \n25  2018-03-09 00:00:00  ... -19.336399  -9.010085   0.005141  2018-03-09   \n26  2018-03-21 00:00:00  ... -19.054314 -14.432693   0.003128  2018-03-21   \n27  2018-04-02 00:00:00  ... -21.674568 -10.634672   0.002757  2018-04-02   \n28  2018-04-02 00:00:00  ... -20.276274  -9.952586   0.002763  2018-04-02   \n29  2018-04-02 00:00:00  ... -21.305450 -11.038267   0.002946  2018-04-02   \n30  2018-04-02 00:00:00  ... -20.968826 -10.004360   0.003306  2018-04-02   \n31  2018-04-02 00:00:00  ... -15.603402  -5.623017   0.003124  2018-04-02   \n32  2018-04-07 00:00:00  ... -29.900881 -18.684311   0.002940  2018-04-07   \n33  2018-04-08 00:00:00  ... -21.173271 -12.391733   0.006819  2018-04-08   \n34  2018-04-13 00:00:00  ... -27.687901 -21.809141   0.004061  2018-04-13   \n35  2018-04-14 00:00:00  ... -23.406656 -10.409344   0.005322  2018-04-14   \n36  2018-04-14 00:00:00  ... -26.272285 -13.619680   0.005887  2018-04-14   \n37  2018-04-19 00:00:00  ... -33.997498 -27.370144   0.004423  2018-04-19   \n38  2018-04-26 00:00:00  ... -26.027939 -21.303577   0.003318  2018-04-26   \n39  2018-05-19 00:00:00  ... -28.964582 -19.872236   0.002578  2018-05-19   \n40  2018-05-20 00:00:00  ... -22.137888  -9.745142   0.003868  2018-05-20   \n41  2018-05-20 00:00:00  ... -28.766260 -19.887888   0.004411  2018-05-20   \n42  2018-05-25 00:00:00  ... -30.221951 -15.809718   0.003681  2018-05-25   \n43  2018-05-25 00:00:00  ... -31.502232 -24.690376   0.004605  2018-05-25   \n44  2016-12-07 00:00:00  ... -33.217281 -24.667627   0.010686  2016-12-07   \n45  2016-12-26 00:00:00  ... -28.440144 -20.455158   0.006457  2016-12-26   \n46  2016-12-26 00:00:00  ... -28.753635 -19.563250   0.011427  2016-12-26   \n47  2016-12-31 00:00:00  ... -33.399609 -26.289957   0.002764  2016-12-31   \n48  2017-01-25 00:00:00  ... -28.040447 -18.981224   0.009397  2017-01-25   \n49  2017-03-14 00:00:00  ... -22.005999 -15.516093   0.005355  2017-03-14   \n50  2017-03-14 00:00:00  ... -25.968557 -17.553579   0.003129  2017-03-14   \n51  2017-03-14 00:00:00  ... -26.287773 -18.518148   0.004795  2017-03-14   \n52  2017-03-14 00:00:00  ... -25.884453 -17.717468   0.007374  2017-03-14   \n53  2017-03-13 00:00:00  ... -29.259176 -16.325430   0.007369  2017-03-13   \n54  2017-03-13 00:00:00  ... -27.156044 -17.730337   0.006452  2017-03-13   \n55  2017-03-13 00:00:00  ... -25.210680 -20.215807   0.002577  2017-03-13   \n56  2017-03-26 00:00:00  ... -23.380634 -11.735435   0.006455  2017-03-26   \n57  2017-04-07 00:00:00  ... -29.065104 -22.218384   0.003872  2017-04-07   \n58  2017-04-19 00:00:00  ... -27.920761 -18.541054   0.009950  2017-04-19   \n59  2017-05-01 00:00:00  ... -25.345974 -18.200447   0.005338  2017-05-01   \n60  2017-05-01 00:00:00  ... -24.192327 -17.574495   0.006468  2017-05-01   \n61  2017-05-06 00:00:00  ... -19.212864 -15.201715   0.003319  2017-05-06   \n62  2017-04-30 00:00:00  ... -24.394936 -17.234503   0.006827  2017-04-30   \n63  2017-05-07 00:00:00  ... -25.561518 -18.028208   0.004599  2017-05-07   \n64  2017-05-24 00:00:00  ... -36.069427 -26.751747   0.003125  2017-05-24   \n65  2017-05-24 00:00:00  ... -35.836994 -25.658403   0.004968  2017-05-24   \n66  2017-05-25 00:00:00  ... -29.115353 -23.189058   0.003134  2017-05-25   \n67  2016-12-07 00:00:00  ... -34.966465 -27.081316   0.004431  2016-12-07   \n\n    detectdate  nr  Shape_Le_1    Shape_Area  \\\n0   2019-02-13  50    0.007552  1.367056e-06   \n1   2019-02-13  51    0.003500  4.168511e-07   \n2   2019-02-13  52    0.005166  8.340760e-07   \n3   2019-03-03  53    0.002763  2.665804e-07   \n4   2019-03-27  54    0.004423  7.167603e-07   \n5   2019-03-27  55    0.006811  1.116803e-06   \n6   2019-03-27  56    0.005523  9.836124e-07   \n7   2019-03-27  57    0.005724  8.672279e-07   \n8   2019-04-02  58    0.003129  3.500062e-07   \n9   2019-04-02  59    0.009402  1.384374e-06   \n10  2019-04-02  60    0.013098  2.535464e-06   \n11  2019-04-03  61    0.003311  4.834152e-07   \n12  2019-04-03  62    0.010143  1.968122e-06   \n13  2019-04-20  63    0.004420  6.340460e-07   \n14  2019-04-20  64    0.006280  9.344129e-07   \n15  2019-05-26  65    0.006627  7.498371e-07   \n16  2019-05-26  66    0.002764  2.833402e-07   \n17  2019-05-26  67    0.002764  3.000200e-07   \n18  2019-05-26  68    0.003684  4.338760e-07   \n19  2018-02-07  25    0.003311  3.999481e-07   \n20  2018-02-07  26    0.003683  4.837173e-07   \n21  2018-02-18  27    0.002945  2.998643e-07   \n22  2018-02-25  28    0.004244  3.998503e-07   \n23  2018-02-25  29    0.002952  2.833054e-07   \n24  2018-03-03  30    0.002940  3.830881e-07   \n25  2018-03-15  31    0.005141  8.501004e-07   \n26  2018-03-27  32    0.003128  3.665888e-07   \n27  2018-04-08  33    0.002757  3.331637e-07   \n28  2018-04-08  34    0.002763  3.332630e-07   \n29  2018-04-08  35    0.002946  3.832850e-07   \n30  2018-04-08  36    0.003306  3.833972e-07   \n31  2018-04-08  37    0.003124  4.334234e-07   \n32  2018-04-13  38    0.002940  3.499514e-07   \n33  2018-04-14  39    0.006819  6.164423e-07   \n34  2018-04-19  40    0.004061  5.506374e-07   \n35  2018-04-20  41    0.005322  9.330036e-07   \n36  2018-04-20  42    0.005887  6.999135e-07   \n37  2018-04-25  43    0.004423  4.333758e-07   \n38  2018-05-02  44    0.003318  2.667838e-07   \n39  2018-05-25  45    0.002578  2.669385e-07   \n40  2018-05-26  46    0.003868  3.832069e-07   \n41  2018-05-26  47    0.004411  6.666774e-07   \n42  2018-05-31  48    0.003681  4.166281e-07   \n43  2018-05-31  49    0.004605  6.500388e-07   \n44  2016-12-31   1    0.010686  3.553067e-06   \n45  2017-01-01   3    0.006457  9.000943e-07   \n46  2017-01-01   4    0.011427  3.819958e-06   \n47  2017-01-12   5    0.002764  3.000312e-07   \n48  2017-01-31   6    0.009397  2.418750e-06   \n49  2017-03-20  10    0.005355  6.840631e-07   \n50  2017-03-20  11    0.003129  3.667667e-07   \n51  2017-03-20  12    0.004795  7.505982e-07   \n52  2017-03-20  13    0.007374  1.217919e-06   \n53  2017-03-25   7    0.007369  1.716888e-06   \n54  2017-03-25   8    0.006452  1.083547e-06   \n55  2017-03-25   9    0.002577  3.001840e-07   \n56  2017-04-01  14    0.006455  1.167662e-06   \n57  2017-04-19  15    0.003872  7.007215e-07   \n58  2017-04-25  16    0.009950  2.251995e-06   \n59  2017-05-07  18    0.005338  8.342712e-07   \n60  2017-05-07  19    0.006468  1.034531e-06   \n61  2017-05-12  20    0.003319  4.170909e-07   \n62  2017-05-12  17    0.006827  1.168031e-06   \n63  2017-05-13  21    0.004599  5.166251e-07   \n64  2017-05-30  22    0.003125  4.004084e-07   \n65  2017-05-30  23    0.004968  7.843203e-07   \n66  2017-05-31  24    0.003134  2.666035e-07   \n67  2016-12-31   2    0.004431  6.172108e-07   \n\n                                             geometry  poly_match  \n0   POLYGON ((8.20802 61.24034, 8.20793 61.24078, ...    No match  \n1   POLYGON ((8.20272 61.24584, 8.20268 61.24601, ...    No match  \n2   POLYGON ((8.20247 61.25988, 8.20245 61.25997, ...    No match  \n3   POLYGON ((8.23335 61.22088, 8.23333 61.22097, ...    No match  \n4   POLYGON ((8.21541 61.23557, 8.21535 61.23584, ...    No match  \n5   POLYGON ((8.21497 61.23501, 8.21495 61.23510, ...    No match  \n6   POLYGON ((8.20800 61.24042, 8.20798 61.24051, ...    No match  \n7   POLYGON ((8.20019 61.25229, 8.20017 61.25238, ...       Match  \n8   POLYGON ((8.21600 61.23200, 8.21594 61.23226, ...       Match  \n9   POLYGON ((8.19994 61.25516, 8.19992 61.25525, ...       Match  \n10  POLYGON ((8.19819 61.25804, 8.19818 61.25813, ...       Match  \n11  POLYGON ((8.21420 61.23686, 8.21418 61.23695, ...    No match  \n12  POLYGON ((8.19996 61.25507, 8.19994 61.25516, ...       Match  \n13  POLYGON ((8.19674 61.26734, 8.19672 61.26743, ...       Match  \n14  POLYGON ((8.19482 61.26842, 8.19480 61.26851, ...    No match  \n15  POLYGON ((8.23498 61.22376, 8.23496 61.22385, ...    No match  \n16  POLYGON ((8.21836 61.23229, 8.21834 61.23238, ...       Match  \n17  POLYGON ((8.21770 61.23361, 8.21769 61.23370, ...    No match  \n18  POLYGON ((8.19887 61.27133, 8.19885 61.27141, ...    No match  \n19  POLYGON ((8.23299 61.22690, 8.23297 61.22699, ...    No match  \n20  POLYGON ((8.19995 61.25687, 8.19993 61.25696, ...    No match  \n21  POLYGON ((8.23500 61.21673, 8.23498 61.21682, ...    No match  \n22  POLYGON ((8.23390 61.21920, 8.23388 61.21929, ...    No match  \n23  POLYGON ((8.23539 61.22792, 8.23535 61.22810, ...    No match  \n24  POLYGON ((8.23479 61.21077, 8.23477 61.21086, ...    No match  \n25  POLYGON ((8.21499 61.23492, 8.21497 61.23501, ...    No match  \n26  POLYGON ((8.23355 61.22432, 8.23351 61.22449, ...    No match  \n27  POLYGON ((8.23446 61.21490, 8.23438 61.21526, ...    No match  \n28  POLYGON ((8.23334 61.22440, 8.23328 61.22466, ...    No match  \n29  POLYGON ((8.23277 61.22707, 8.23273 61.22725, ...    No match  \n30  POLYGON ((8.21424 61.23668, 8.21418 61.23695, ...    No match  \n31  POLYGON ((8.21432 61.23804, 8.21430 61.23813, ...    No match  \n32  POLYGON ((8.23625 61.22652, 8.23617 61.22688, ...    No match  \n33  POLYGON ((8.23444 61.21931, 8.23442 61.21940, ...    No match  \n34  POLYGON ((8.19404 61.26856, 8.19398 61.26883, ...    No match  \n35  POLYGON ((8.23331 61.21935, 8.23329 61.21944, ...    No match  \n36  POLYGON ((8.23340 61.22674, 8.23338 61.22683, ...       Match  \n37  POLYGON ((8.21242 61.23470, 8.21238 61.23488, ...       Match  \n38  POLYGON ((8.20011 61.24579, 8.20009 61.24588, ...    No match  \n39  POLYGON ((8.20064 61.26403, 8.20062 61.26411, ...    No match  \n40  POLYGON ((8.23267 61.22058, 8.23265 61.22067, ...    No match  \n41  POLYGON ((8.21811 61.23174, 8.21799 61.23228, ...       Match  \n42  POLYGON ((8.23405 61.22804, 8.23403 61.22812, ...    No match  \n43  POLYGON ((8.21797 61.23327, 8.21795 61.23335, ...    No match  \n44  POLYGON ((8.19789 61.25857, 8.19787 61.25866, ...    No match  \n45  POLYGON ((8.21296 61.23482, 8.21294 61.23491, ...    No match  \n46  POLYGON ((8.19789 61.25857, 8.19787 61.25866, ...    No match  \n47  POLYGON ((8.21331 61.23492, 8.21329 61.23501, ...    No match  \n48  POLYGON ((8.19806 61.25867, 8.19804 61.25876, ...    No match  \n49  POLYGON ((8.19805 61.26561, 8.19803 61.26570, ...    No match  \n50  POLYGON ((8.20839 61.24035, 8.20837 61.24044, ...    No match  \n51  POLYGON ((8.20011 61.25697, 8.20009 61.25706, ...    No match  \n52  POLYGON ((8.19986 61.26417, 8.19984 61.26426, ...       Match  \n53  POLYGON ((8.21528 61.23529, 8.21527 61.23538, ...    No match  \n54  POLYGON ((8.21460 61.23760, 8.21454 61.23787, ...    No match  \n55  POLYGON ((8.20154 61.25127, 8.20152 61.25136, ...       Match  \n56  POLYGON ((8.19843 61.25869, 8.19841 61.25878, ...    No match  \n57  POLYGON ((8.19680 61.26446, 8.19678 61.26455, ...       Match  \n58  POLYGON ((8.19753 61.25936, 8.19751 61.25945, ...    No match  \n59  POLYGON ((8.19657 61.26724, 8.19649 61.26760, ...       Match  \n60  POLYGON ((8.19406 61.26847, 8.19398 61.26883, ...       Match  \n61  POLYGON ((8.19706 61.26412, 8.19704 61.26420, ...    No match  \n62  POLYGON ((8.19042 61.26883, 8.19040 61.26892, ...       Match  \n63  POLYGON ((8.23063 61.22831, 8.23057 61.22858, ...    No match  \n64  POLYGON ((8.20045 61.26402, 8.20040 61.26428, ...    No match  \n65  POLYGON ((8.19905 61.27134, 8.19901 61.27151, ...    No match  \n66  POLYGON ((8.23144 61.22367, 8.23142 61.22376, ...    No match  \n67  POLYGON ((8.19518 61.25988, 8.19516 61.25996, ...    No match  \n\n[68 rows x 47 columns]\n"
     ],
     "output_type": "stream"
    }
   ],
   "source": [
    "sataut_test = gpd.read_file(\"data/satskred/satskred_det/AvalDet_aut_Merge_all.shp\")\n",
    "sataut_test[\"poly_match\"] = 'No match'\n",
    "sataut_test.at[(7, 8, 9, 10, 12, 13, 16, 36, 37, 41, 52, 55, 57, 59, 60, 62),'poly_match']='Match'\n",
    "\n",
    "pd.set_option('display.max_rows', None)\n",
    "print(sataut_test)"
   ],
   "metadata": {
    "collapsed": false,
    "pycharm": {
     "name": "#%%\n",
     "is_executing": false
    }
   }
  },
  {
   "cell_type": "code",
   "execution_count": null,
   "outputs": [],
   "source": [
    "a = sataut_test[\"dem_max\"]\n",
    "counts, bins = np.histogram(a)\n",
    "plt.hist(bins[:-1], bins, weights=counts)\n",
    "plt.title('Tittel')\n",
    "plt.xlabel('xlabel')\n",
    "plt.show()\n",
    "#plt.ylabel(ylabel)\n",
    "#plt.savefig(/figures/test.png)"
   ],
   "metadata": {
    "collapsed": false,
    "pycharm": {
     "name": "#%%\n"
    }
   }
  }
 ],
 "metadata": {
  "language_info": {
   "codemirror_mode": {
    "name": "ipython",
    "version": 2
   },
   "file_extension": ".py",
   "mimetype": "text/x-python",
   "name": "python",
   "nbconvert_exporter": "python",
   "pygments_lexer": "ipython2",
   "version": "2.7.6"
  },
  "kernelspec": {
   "name": "python3",
   "language": "python",
   "display_name": "Python 3"
  },
  "pycharm": {
   "stem_cell": {
    "cell_type": "raw",
    "source": [],
    "metadata": {
     "collapsed": false
    }
   }
  }
 },
 "nbformat": 4,
 "nbformat_minor": 0
}