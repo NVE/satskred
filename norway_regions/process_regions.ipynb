{
 "cells": [
  {
   "cell_type": "markdown",
   "metadata": {
    "collapsed": true,
    "pycharm": {
     "name": "#%% md\n"
    }
   },
   "source": [
    "SatsKred processing regions were drawn using QGIS and saved as shapefile. CRS while drawing is UTM33.\n",
    "Data needs to be re-projected to CRS:4326 (Lat/Lon) before saving. satskred init works only with lat/lon.\n",
    "Regions with ID 1000-1999 contain A-forecasting regions (daily forecasting). regions with ID 2000-2999 contain B-forecasting regions (emergency regions)."
   ]
  },
  {
   "cell_type": "code",
   "execution_count": 8,
   "outputs": [],
   "source": [
    "import geopandas as gpd\n",
    "import json\n",
    "from shapely.geometry import mapping"
   ],
   "metadata": {
    "collapsed": false,
    "pycharm": {
     "name": "#%%\n"
    }
   }
  },
  {
   "cell_type": "code",
   "execution_count": 9,
   "outputs": [
    {
     "name": "stdout",
     "output_type": "stream",
     "text": [
      "epsg:32633\n"
     ]
    },
    {
     "data": {
      "text/plain": "    fid  name    ID                                           geometry\n0  33.0  None  1006  POLYGON ((479483.851 7472031.017, 479483.851 7...\n1  41.0  None  1010  POLYGON ((48338.030 6771652.362, 48338.030 691...\n2  43.0  None  2008  POLYGON ((193453.128 6673198.067, 193453.128 6...\n3  44.0  None  2010  POLYGON ((284441.694 6763720.025, 284441.694 6...\n4  47.0  None  1012  POLYGON ((47871.422 6696528.469, 47871.422 677...",
      "text/html": "<div>\n<style scoped>\n    .dataframe tbody tr th:only-of-type {\n        vertical-align: middle;\n    }\n\n    .dataframe tbody tr th {\n        vertical-align: top;\n    }\n\n    .dataframe thead th {\n        text-align: right;\n    }\n</style>\n<table border=\"1\" class=\"dataframe\">\n  <thead>\n    <tr style=\"text-align: right;\">\n      <th></th>\n      <th>fid</th>\n      <th>name</th>\n      <th>ID</th>\n      <th>geometry</th>\n    </tr>\n  </thead>\n  <tbody>\n    <tr>\n      <th>0</th>\n      <td>33.0</td>\n      <td>None</td>\n      <td>1006</td>\n      <td>POLYGON ((479483.851 7472031.017, 479483.851 7...</td>\n    </tr>\n    <tr>\n      <th>1</th>\n      <td>41.0</td>\n      <td>None</td>\n      <td>1010</td>\n      <td>POLYGON ((48338.030 6771652.362, 48338.030 691...</td>\n    </tr>\n    <tr>\n      <th>2</th>\n      <td>43.0</td>\n      <td>None</td>\n      <td>2008</td>\n      <td>POLYGON ((193453.128 6673198.067, 193453.128 6...</td>\n    </tr>\n    <tr>\n      <th>3</th>\n      <td>44.0</td>\n      <td>None</td>\n      <td>2010</td>\n      <td>POLYGON ((284441.694 6763720.025, 284441.694 6...</td>\n    </tr>\n    <tr>\n      <th>4</th>\n      <td>47.0</td>\n      <td>None</td>\n      <td>1012</td>\n      <td>POLYGON ((47871.422 6696528.469, 47871.422 677...</td>\n    </tr>\n  </tbody>\n</table>\n</div>"
     },
     "execution_count": 9,
     "metadata": {},
     "output_type": "execute_result"
    }
   ],
   "source": [
    "regions = gpd.read_file(\"N:\\Prosjekter\\SatSkred\\Dev\\GIS\\satskred_regions.shp\")\n",
    "print(\"Original CRS is: {0}\".format(regions.crs))\n",
    "regions.head()"
   ],
   "metadata": {
    "collapsed": false,
    "pycharm": {
     "name": "#%%\n"
    }
   }
  },
  {
   "cell_type": "code",
   "execution_count": 10,
   "outputs": [],
   "source": [
    "regions['area_km2'] = regions.area / 1e6\n",
    "regions['length_km'] = regions.length / 1e3\n"
   ],
   "metadata": {
    "collapsed": false,
    "pycharm": {
     "name": "#%%\n"
    }
   }
  },
  {
   "cell_type": "code",
   "execution_count": 11,
   "outputs": [
    {
     "name": "stdout",
     "output_type": "stream",
     "text": [
      "      ID      area_km2   length_km\n",
      "8   1001  19096.351442  584.479350\n",
      "9   1002  17859.603276  564.293250\n",
      "29  1003  15274.134510  512.910450\n",
      "28  1004  20331.836760  570.716100\n",
      "11  1005  26576.615194  659.718450\n",
      "0   1006  18624.030137  549.664261\n",
      "10  1007   7958.040869  356.926950\n",
      "26  1008  14464.649581  481.713750\n",
      "16  1009  17432.340040  540.436950\n",
      "1   1010  20446.807555  572.061447\n",
      "15  1011  10354.503533  410.144850\n",
      "4   1012  11176.159867  445.144062\n",
      "17  1013  12559.013452  448.681950\n",
      "5   1014  16762.933462  553.397125\n",
      "24  1015  15002.622405  489.971700\n",
      "27  1016  20535.155128  628.521750\n",
      "30  1017   6326.863489  318.389850\n",
      "19  2001  10073.099125  458.775000\n",
      "20  2002   7444.483087  364.267350\n",
      "22  2003   4777.350215  303.709050\n",
      "12  2004  13721.885068  473.455800\n",
      "25  2005  22615.064143  615.676050\n",
      "14  2006  13148.763003  460.610100\n",
      "13  2007  27277.495281  677.151900\n",
      "2   2008  21737.469826  659.783757\n",
      "23  2009  10381.023320  415.650150\n",
      "3   2010  15210.350356  502.070242\n",
      "21  2011  11811.408026  441.341550\n",
      "18  2012   9865.360793  497.312100\n",
      "6   2013  14349.037950  479.673056\n",
      "7   2014  23740.892247  644.120100\n"
     ]
    }
   ],
   "source": [
    "print(\"Region sorted by ID\")\n",
    "print(regions.filter(['ID', 'area_km2', 'length_km']).sort_values(by=['ID']))"
   ],
   "metadata": {
    "collapsed": false,
    "pycharm": {
     "name": "#%%\n"
    }
   }
  },
  {
   "cell_type": "code",
   "execution_count": 16,
   "outputs": [
    {
     "name": "stdout",
     "output_type": "stream",
     "text": [
      "Regions sorted by area (sq.km)\n",
      "      ID      area_km2   length_km\n",
      "13  2007  27277.495281  677.151900\n",
      "11  1005  26576.615194  659.718450\n",
      "7   2014  23740.892247  644.120100\n",
      "25  2005  22615.064143  615.676050\n",
      "2   2008  21737.469826  659.783757\n",
      "27  1016  20535.155128  628.521750\n",
      "1   1010  20446.807555  572.061447\n",
      "28  1004  20331.836760  570.716100\n",
      "8   1001  19096.351442  584.479350\n",
      "0   1006  18624.030137  549.664261\n",
      "9   1002  17859.603276  564.293250\n",
      "16  1009  17432.340040  540.436950\n",
      "5   1014  16762.933462  553.397125\n",
      "29  1003  15274.134510  512.910450\n",
      "3   2010  15210.350356  502.070242\n",
      "24  1015  15002.622405  489.971700\n",
      "26  1008  14464.649581  481.713750\n",
      "6   2013  14349.037950  479.673056\n",
      "12  2004  13721.885068  473.455800\n",
      "14  2006  13148.763003  460.610100\n",
      "17  1013  12559.013452  448.681950\n",
      "21  2011  11811.408026  441.341550\n",
      "4   1012  11176.159867  445.144062\n",
      "23  2009  10381.023320  415.650150\n",
      "15  1011  10354.503533  410.144850\n",
      "19  2001  10073.099125  458.775000\n",
      "18  2012   9865.360793  497.312100\n",
      "10  1007   7958.040869  356.926950\n",
      "20  2002   7444.483087  364.267350\n",
      "30  1017   6326.863489  318.389850\n",
      "22  2003   4777.350215  303.709050\n"
     ]
    }
   ],
   "source": [
    "print(\"Regions sorted by area (sq.km)\")\n",
    "print(regions.filter(['ID', 'area_km2', 'length_km']).sort_values(by=['area_km2'], ascending=False))"
   ],
   "metadata": {
    "collapsed": false,
    "pycharm": {
     "name": "#%%\n"
    }
   }
  },
  {
   "cell_type": "code",
   "execution_count": 13,
   "outputs": [
    {
     "name": "stdout",
     "output_type": "stream",
     "text": [
      "epsg:4326\n"
     ]
    }
   ],
   "source": [
    "regions.to_crs(epsg=4326, inplace=True)\n",
    "print(\"Changed CRS to lat/lon: {0}\".format(regions.crs))\n",
    "\n"
   ],
   "metadata": {
    "collapsed": false,
    "pycharm": {
     "name": "#%%\n"
    }
   }
  },
  {
   "cell_type": "code",
   "execution_count": 14,
   "outputs": [
    {
     "name": "stdout",
     "output_type": "stream",
     "text": [
      "Writing satskred_region_1006.geojson... Done\n",
      "Writing satskred_region_1010.geojson... Done\n",
      "Writing satskred_region_2008.geojson... Done\n",
      "Writing satskred_region_2010.geojson... Done\n",
      "Writing satskred_region_1012.geojson... Done\n",
      "Writing satskred_region_1014.geojson... Done\n",
      "Writing satskred_region_2013.geojson... Done\n",
      "Writing satskred_region_2014.geojson... Done\n",
      "Writing satskred_region_1001.geojson... Done\n",
      "Writing satskred_region_1002.geojson... Done\n",
      "Writing satskred_region_1007.geojson... Done\n",
      "Writing satskred_region_1005.geojson... Done\n",
      "Writing satskred_region_2004.geojson... Done\n",
      "Writing satskred_region_2007.geojson... Done\n",
      "Writing satskred_region_2006.geojson... Done\n",
      "Writing satskred_region_1011.geojson... Done\n",
      "Writing satskred_region_1009.geojson... Done\n",
      "Writing satskred_region_1013.geojson... Done\n",
      "Writing satskred_region_2012.geojson... Done\n",
      "Writing satskred_region_2001.geojson... Done\n",
      "Writing satskred_region_2002.geojson... Done\n",
      "Writing satskred_region_2011.geojson... Done\n",
      "Writing satskred_region_2003.geojson... Done\n",
      "Writing satskred_region_2009.geojson... Done\n",
      "Writing satskred_region_1015.geojson... Done\n",
      "Writing satskred_region_2005.geojson... Done\n",
      "Writing satskred_region_1008.geojson... Done\n",
      "Writing satskred_region_1016.geojson... Done\n",
      "Writing satskred_region_1004.geojson... Done\n",
      "Writing satskred_region_1003.geojson... Done\n",
      "Writing satskred_region_1017.geojson... Done\n"
     ]
    }
   ],
   "source": [
    "for index, reg in regions.iterrows():\n",
    "    _json_str = mapping(reg.geometry)\n",
    "    _json_file = 'satskred_region_{0}.geojson'.format(reg['ID'])\n",
    "    print('Writing {0}... '.format(_json_file), end='')\n",
    "    with open(_json_file, 'w') as fid:\n",
    "        json.dump(_json_str, fid)\n",
    "    print('Done')\n",
    "\n",
    "print(\"Export to GEOJSON complete!\")"
   ],
   "metadata": {
    "collapsed": false,
    "pycharm": {
     "name": "#%%\n"
    }
   }
  },
  {
   "cell_type": "code",
   "execution_count": 14,
   "outputs": [],
   "source": [
    "\n"
   ],
   "metadata": {
    "collapsed": false,
    "pycharm": {
     "name": "#%%\n"
    }
   }
  }
 ],
 "metadata": {
  "kernelspec": {
   "display_name": "Python 3",
   "language": "python",
   "name": "python3"
  },
  "language_info": {
   "codemirror_mode": {
    "name": "ipython",
    "version": 2
   },
   "file_extension": ".py",
   "mimetype": "text/x-python",
   "name": "python",
   "nbconvert_exporter": "python",
   "pygments_lexer": "ipython2",
   "version": "2.7.6"
  }
 },
 "nbformat": 4,
 "nbformat_minor": 0
}